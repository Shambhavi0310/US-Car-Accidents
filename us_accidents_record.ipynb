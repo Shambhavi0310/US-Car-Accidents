{
  "nbformat": 4,
  "nbformat_minor": 0,
  "metadata": {
    "kernelspec": {
      "display_name": "Python 3",
      "language": "python",
      "name": "python3"
    },
    "language_info": {
      "codemirror_mode": {
        "name": "ipython",
        "version": 3
      },
      "file_extension": ".py",
      "mimetype": "text/x-python",
      "name": "python",
      "nbconvert_exporter": "python",
      "pygments_lexer": "ipython3",
      "version": "3.7.6"
    },
    "colab": {
      "name": "us-accidents-record.ipynb",
      "provenance": []
    }
  },
  "cells": [
    {
      "cell_type": "code",
      "metadata": {
        "colab": {
          "base_uri": "https://localhost:8080/"
        },
        "id": "Bi_sdp56zXrx",
        "outputId": "9f760e92-d380-41a4-a85b-dec6391f54e5"
      },
      "source": [
        "# Jovian Commit Essentials\n",
        "# Please retain and execute this cell without modifying the contents for `jovian.commit` to work\n",
        "!pip install jovian --upgrade -q\n",
        "import jovian\n",
        "jovian.set_project('us-accidents-record')\n",
        "jovian.set_colab_id('1Ie1Aaqs1WoXURnQhRaTPb6Ac9nBta_l_')"
      ],
      "execution_count": null,
      "outputs": [
        {
          "output_type": "stream",
          "name": "stdout",
          "text": [
            "\u001b[?25l\r\u001b[K     |████▊                           | 10 kB 16.6 MB/s eta 0:00:01\r\u001b[K     |█████████▌                      | 20 kB 22.0 MB/s eta 0:00:01\r\u001b[K     |██████████████▎                 | 30 kB 14.4 MB/s eta 0:00:01\r\u001b[K     |███████████████████             | 40 kB 10.4 MB/s eta 0:00:01\r\u001b[K     |███████████████████████▉        | 51 kB 5.4 MB/s eta 0:00:01\r\u001b[K     |████████████████████████████▋   | 61 kB 5.4 MB/s eta 0:00:01\r\u001b[K     |████████████████████████████████| 68 kB 3.0 MB/s \n",
            "\u001b[?25h  Building wheel for uuid (setup.py) ... \u001b[?25l\u001b[?25hdone\n"
          ]
        }
      ]
    },
    {
      "cell_type": "markdown",
      "metadata": {
        "id": "uoGdOpBbzXr7"
      },
      "source": [
        "# us-accidents-record\n",
        "\n",
        "Use the \"Run\" button to execute the code."
      ]
    },
    {
      "cell_type": "code",
      "metadata": {
        "id": "5rtFSPoQzXsB"
      },
      "source": [
        "!pip install jovian --upgrade --quiet"
      ],
      "execution_count": null,
      "outputs": []
    },
    {
      "cell_type": "code",
      "metadata": {
        "id": "ybdyStRWzXsD"
      },
      "source": [
        "import jovian"
      ],
      "execution_count": null,
      "outputs": []
    },
    {
      "cell_type": "code",
      "metadata": {
        "colab": {
          "base_uri": "https://localhost:8080/",
          "height": 122
        },
        "id": "KfL2Y4qlzXsE",
        "outputId": "57cd356e-27f3-4d26-a4d5-103d2f27b995"
      },
      "source": [
        "# Execute this to save new versions of the notebook\n",
        "jovian.commit(project=\"us-accidents-record\")"
      ],
      "execution_count": null,
      "outputs": [
        {
          "output_type": "stream",
          "name": "stdout",
          "text": [
            "[jovian] Detected Colab notebook...\u001b[0m\n",
            "[jovian] Please enter your API key ( from https://jovian.ai/ ):\u001b[0m\n",
            "API KEY: ··········\n",
            "[jovian] Uploading colab notebook to Jovian...\u001b[0m\n",
            "Committed successfully! https://jovian.ai/bhilwadikarshambhavi/us-accidents-record\n"
          ]
        },
        {
          "output_type": "execute_result",
          "data": {
            "application/vnd.google.colaboratory.intrinsic+json": {
              "type": "string"
            },
            "text/plain": [
              "'https://jovian.ai/bhilwadikarshambhavi/us-accidents-record'"
            ]
          },
          "metadata": {},
          "execution_count": 6
        }
      ]
    },
    {
      "cell_type": "markdown",
      "metadata": {
        "id": "dC-_Wx7u0F6G"
      },
      "source": [
        "#US Accidents Exploratory Data Analysis"
      ]
    },
    {
      "cell_type": "markdown",
      "metadata": {
        "id": "v5Gvh41G0VTt"
      },
      "source": [
        "#Kaggle\n",
        " #Information about accidents \n",
        " #Can be useful to prevent further accidents\n",
        " "
      ]
    },
    {
      "cell_type": "code",
      "metadata": {
        "colab": {
          "base_uri": "https://localhost:8080/"
        },
        "id": "8hiBmg1p0fL5",
        "outputId": "a4ea9e90-6121-41c1-8362-f438558c6200"
      },
      "source": [
        "pip install opendatasets --upgrade"
      ],
      "execution_count": null,
      "outputs": [
        {
          "output_type": "stream",
          "name": "stdout",
          "text": [
            "Collecting opendatasets\n",
            "  Downloading opendatasets-0.1.20-py3-none-any.whl (14 kB)\n",
            "Requirement already satisfied: click in /usr/local/lib/python3.7/dist-packages (from opendatasets) (7.1.2)\n",
            "Requirement already satisfied: tqdm in /usr/local/lib/python3.7/dist-packages (from opendatasets) (4.62.3)\n",
            "Requirement already satisfied: kaggle in /usr/local/lib/python3.7/dist-packages (from opendatasets) (1.5.12)\n",
            "Requirement already satisfied: certifi in /usr/local/lib/python3.7/dist-packages (from kaggle->opendatasets) (2021.5.30)\n",
            "Requirement already satisfied: python-slugify in /usr/local/lib/python3.7/dist-packages (from kaggle->opendatasets) (5.0.2)\n",
            "Requirement already satisfied: requests in /usr/local/lib/python3.7/dist-packages (from kaggle->opendatasets) (2.23.0)\n",
            "Requirement already satisfied: six>=1.10 in /usr/local/lib/python3.7/dist-packages (from kaggle->opendatasets) (1.15.0)\n",
            "Requirement already satisfied: urllib3 in /usr/local/lib/python3.7/dist-packages (from kaggle->opendatasets) (1.24.3)\n",
            "Requirement already satisfied: python-dateutil in /usr/local/lib/python3.7/dist-packages (from kaggle->opendatasets) (2.8.2)\n",
            "Requirement already satisfied: text-unidecode>=1.3 in /usr/local/lib/python3.7/dist-packages (from python-slugify->kaggle->opendatasets) (1.3)\n",
            "Requirement already satisfied: chardet<4,>=3.0.2 in /usr/local/lib/python3.7/dist-packages (from requests->kaggle->opendatasets) (3.0.4)\n",
            "Requirement already satisfied: idna<3,>=2.5 in /usr/local/lib/python3.7/dist-packages (from requests->kaggle->opendatasets) (2.10)\n",
            "Installing collected packages: opendatasets\n",
            "Successfully installed opendatasets-0.1.20\n"
          ]
        }
      ]
    },
    {
      "cell_type": "code",
      "metadata": {
        "colab": {
          "base_uri": "https://localhost:8080/"
        },
        "id": "Pq5Q_dVw0U4m",
        "outputId": "d07bf2a9-9c87-407b-b694-3bd1026954ef"
      },
      "source": [
        "import opendatasets as od\n",
        "download_url = 'https://www.kaggle.com/sobhanmoosavi/us-accidents'\n",
        "od.download(download_url)\n"
      ],
      "execution_count": null,
      "outputs": [
        {
          "output_type": "stream",
          "name": "stdout",
          "text": [
            "Please provide your Kaggle credentials to download this dataset. Learn more: http://bit.ly/kaggle-creds\n",
            "Your Kaggle username: shambhavibhilwadikar\n",
            "Your Kaggle Key: ··········\n",
            "Downloading us-accidents.zip to ./us-accidents\n"
          ]
        },
        {
          "output_type": "stream",
          "name": "stderr",
          "text": [
            "100%|██████████| 117M/117M [00:00<00:00, 165MB/s]\n"
          ]
        },
        {
          "output_type": "stream",
          "name": "stdout",
          "text": [
            "\n"
          ]
        }
      ]
    },
    {
      "cell_type": "code",
      "metadata": {
        "id": "p4FWghkF0NRG"
      },
      "source": [
        "data_directory='/content/us-accidents/US_Accidents_Dec20_updated.csv'"
      ],
      "execution_count": null,
      "outputs": []
    },
    {
      "cell_type": "markdown",
      "metadata": {
        "id": "u4jITYRA1QhQ"
      },
      "source": [
        "#Data Preparation and Cleaning\n",
        "-Load the file using pandas\n",
        "-Look at some info about data and the columns\n",
        "-Fix any missing or incorrect values\n"
      ]
    },
    {
      "cell_type": "code",
      "metadata": {
        "id": "4Uc2Z5vb1LHh"
      },
      "source": [
        "import pandas as pd\n"
      ],
      "execution_count": null,
      "outputs": []
    },
    {
      "cell_type": "code",
      "metadata": {
        "id": "RBOQ26np1Us8"
      },
      "source": [
        "df=pd.read_csv(data_directory)"
      ],
      "execution_count": null,
      "outputs": []
    },
    {
      "cell_type": "code",
      "metadata": {
        "colab": {
          "base_uri": "https://localhost:8080/",
          "height": 894
        },
        "id": "HLpRsEqR1K6Y",
        "outputId": "85d9db0b-7f63-459d-ec9e-f37288b11a51"
      },
      "source": [
        "df"
      ],
      "execution_count": null,
      "outputs": [
        {
          "output_type": "execute_result",
          "data": {
            "text/html": [
              "<div>\n",
              "<style scoped>\n",
              "    .dataframe tbody tr th:only-of-type {\n",
              "        vertical-align: middle;\n",
              "    }\n",
              "\n",
              "    .dataframe tbody tr th {\n",
              "        vertical-align: top;\n",
              "    }\n",
              "\n",
              "    .dataframe thead th {\n",
              "        text-align: right;\n",
              "    }\n",
              "</style>\n",
              "<table border=\"1\" class=\"dataframe\">\n",
              "  <thead>\n",
              "    <tr style=\"text-align: right;\">\n",
              "      <th></th>\n",
              "      <th>ID</th>\n",
              "      <th>Severity</th>\n",
              "      <th>Start_Time</th>\n",
              "      <th>End_Time</th>\n",
              "      <th>Start_Lat</th>\n",
              "      <th>Start_Lng</th>\n",
              "      <th>End_Lat</th>\n",
              "      <th>End_Lng</th>\n",
              "      <th>Distance(mi)</th>\n",
              "      <th>Description</th>\n",
              "      <th>Number</th>\n",
              "      <th>Street</th>\n",
              "      <th>Side</th>\n",
              "      <th>City</th>\n",
              "      <th>County</th>\n",
              "      <th>State</th>\n",
              "      <th>Zipcode</th>\n",
              "      <th>Country</th>\n",
              "      <th>Timezone</th>\n",
              "      <th>Airport_Code</th>\n",
              "      <th>Weather_Timestamp</th>\n",
              "      <th>Temperature(F)</th>\n",
              "      <th>Wind_Chill(F)</th>\n",
              "      <th>Humidity(%)</th>\n",
              "      <th>Pressure(in)</th>\n",
              "      <th>Visibility(mi)</th>\n",
              "      <th>Wind_Direction</th>\n",
              "      <th>Wind_Speed(mph)</th>\n",
              "      <th>Precipitation(in)</th>\n",
              "      <th>Weather_Condition</th>\n",
              "      <th>Amenity</th>\n",
              "      <th>Bump</th>\n",
              "      <th>Crossing</th>\n",
              "      <th>Give_Way</th>\n",
              "      <th>Junction</th>\n",
              "      <th>No_Exit</th>\n",
              "      <th>Railway</th>\n",
              "      <th>Roundabout</th>\n",
              "      <th>Station</th>\n",
              "      <th>Stop</th>\n",
              "      <th>Traffic_Calming</th>\n",
              "      <th>Traffic_Signal</th>\n",
              "      <th>Turning_Loop</th>\n",
              "      <th>Sunrise_Sunset</th>\n",
              "      <th>Civil_Twilight</th>\n",
              "      <th>Nautical_Twilight</th>\n",
              "      <th>Astronomical_Twilight</th>\n",
              "    </tr>\n",
              "  </thead>\n",
              "  <tbody>\n",
              "    <tr>\n",
              "      <th>0</th>\n",
              "      <td>A-2716600</td>\n",
              "      <td>3</td>\n",
              "      <td>2016-02-08 00:37:08</td>\n",
              "      <td>2016-02-08 06:37:08</td>\n",
              "      <td>40.10891</td>\n",
              "      <td>-83.09286</td>\n",
              "      <td>40.11206</td>\n",
              "      <td>-83.03187</td>\n",
              "      <td>3.230</td>\n",
              "      <td>Between Sawmill Rd/Exit 20 and OH-315/Olentang...</td>\n",
              "      <td>NaN</td>\n",
              "      <td>Outerbelt E</td>\n",
              "      <td>R</td>\n",
              "      <td>Dublin</td>\n",
              "      <td>Franklin</td>\n",
              "      <td>OH</td>\n",
              "      <td>43017</td>\n",
              "      <td>US</td>\n",
              "      <td>US/Eastern</td>\n",
              "      <td>KOSU</td>\n",
              "      <td>2016-02-08 00:53:00</td>\n",
              "      <td>42.1</td>\n",
              "      <td>36.1</td>\n",
              "      <td>58.0</td>\n",
              "      <td>29.76</td>\n",
              "      <td>10.0</td>\n",
              "      <td>SW</td>\n",
              "      <td>10.4</td>\n",
              "      <td>0.00</td>\n",
              "      <td>Light Rain</td>\n",
              "      <td>False</td>\n",
              "      <td>False</td>\n",
              "      <td>False</td>\n",
              "      <td>False</td>\n",
              "      <td>False</td>\n",
              "      <td>False</td>\n",
              "      <td>False</td>\n",
              "      <td>False</td>\n",
              "      <td>False</td>\n",
              "      <td>False</td>\n",
              "      <td>False</td>\n",
              "      <td>False</td>\n",
              "      <td>False</td>\n",
              "      <td>Night</td>\n",
              "      <td>Night</td>\n",
              "      <td>Night</td>\n",
              "      <td>Night</td>\n",
              "    </tr>\n",
              "    <tr>\n",
              "      <th>1</th>\n",
              "      <td>A-2716601</td>\n",
              "      <td>2</td>\n",
              "      <td>2016-02-08 05:56:20</td>\n",
              "      <td>2016-02-08 11:56:20</td>\n",
              "      <td>39.86542</td>\n",
              "      <td>-84.06280</td>\n",
              "      <td>39.86501</td>\n",
              "      <td>-84.04873</td>\n",
              "      <td>0.747</td>\n",
              "      <td>At OH-4/OH-235/Exit 41 - Accident.</td>\n",
              "      <td>NaN</td>\n",
              "      <td>I-70 E</td>\n",
              "      <td>R</td>\n",
              "      <td>Dayton</td>\n",
              "      <td>Montgomery</td>\n",
              "      <td>OH</td>\n",
              "      <td>45424</td>\n",
              "      <td>US</td>\n",
              "      <td>US/Eastern</td>\n",
              "      <td>KFFO</td>\n",
              "      <td>2016-02-08 05:58:00</td>\n",
              "      <td>36.9</td>\n",
              "      <td>NaN</td>\n",
              "      <td>91.0</td>\n",
              "      <td>29.68</td>\n",
              "      <td>10.0</td>\n",
              "      <td>Calm</td>\n",
              "      <td>NaN</td>\n",
              "      <td>0.02</td>\n",
              "      <td>Light Rain</td>\n",
              "      <td>False</td>\n",
              "      <td>False</td>\n",
              "      <td>False</td>\n",
              "      <td>False</td>\n",
              "      <td>False</td>\n",
              "      <td>False</td>\n",
              "      <td>False</td>\n",
              "      <td>False</td>\n",
              "      <td>False</td>\n",
              "      <td>False</td>\n",
              "      <td>False</td>\n",
              "      <td>False</td>\n",
              "      <td>False</td>\n",
              "      <td>Night</td>\n",
              "      <td>Night</td>\n",
              "      <td>Night</td>\n",
              "      <td>Night</td>\n",
              "    </tr>\n",
              "    <tr>\n",
              "      <th>2</th>\n",
              "      <td>A-2716602</td>\n",
              "      <td>2</td>\n",
              "      <td>2016-02-08 06:15:39</td>\n",
              "      <td>2016-02-08 12:15:39</td>\n",
              "      <td>39.10266</td>\n",
              "      <td>-84.52468</td>\n",
              "      <td>39.10209</td>\n",
              "      <td>-84.52396</td>\n",
              "      <td>0.055</td>\n",
              "      <td>At I-71/US-50/Exit 1 - Accident.</td>\n",
              "      <td>NaN</td>\n",
              "      <td>I-75 S</td>\n",
              "      <td>R</td>\n",
              "      <td>Cincinnati</td>\n",
              "      <td>Hamilton</td>\n",
              "      <td>OH</td>\n",
              "      <td>45203</td>\n",
              "      <td>US</td>\n",
              "      <td>US/Eastern</td>\n",
              "      <td>KLUK</td>\n",
              "      <td>2016-02-08 05:53:00</td>\n",
              "      <td>36.0</td>\n",
              "      <td>NaN</td>\n",
              "      <td>97.0</td>\n",
              "      <td>29.70</td>\n",
              "      <td>10.0</td>\n",
              "      <td>Calm</td>\n",
              "      <td>NaN</td>\n",
              "      <td>0.02</td>\n",
              "      <td>Overcast</td>\n",
              "      <td>False</td>\n",
              "      <td>False</td>\n",
              "      <td>False</td>\n",
              "      <td>False</td>\n",
              "      <td>True</td>\n",
              "      <td>False</td>\n",
              "      <td>False</td>\n",
              "      <td>False</td>\n",
              "      <td>False</td>\n",
              "      <td>False</td>\n",
              "      <td>False</td>\n",
              "      <td>False</td>\n",
              "      <td>False</td>\n",
              "      <td>Night</td>\n",
              "      <td>Night</td>\n",
              "      <td>Night</td>\n",
              "      <td>Day</td>\n",
              "    </tr>\n",
              "    <tr>\n",
              "      <th>3</th>\n",
              "      <td>A-2716603</td>\n",
              "      <td>2</td>\n",
              "      <td>2016-02-08 06:15:39</td>\n",
              "      <td>2016-02-08 12:15:39</td>\n",
              "      <td>39.10148</td>\n",
              "      <td>-84.52341</td>\n",
              "      <td>39.09841</td>\n",
              "      <td>-84.52241</td>\n",
              "      <td>0.219</td>\n",
              "      <td>At I-71/US-50/Exit 1 - Accident.</td>\n",
              "      <td>NaN</td>\n",
              "      <td>US-50 E</td>\n",
              "      <td>R</td>\n",
              "      <td>Cincinnati</td>\n",
              "      <td>Hamilton</td>\n",
              "      <td>OH</td>\n",
              "      <td>45202</td>\n",
              "      <td>US</td>\n",
              "      <td>US/Eastern</td>\n",
              "      <td>KLUK</td>\n",
              "      <td>2016-02-08 05:53:00</td>\n",
              "      <td>36.0</td>\n",
              "      <td>NaN</td>\n",
              "      <td>97.0</td>\n",
              "      <td>29.70</td>\n",
              "      <td>10.0</td>\n",
              "      <td>Calm</td>\n",
              "      <td>NaN</td>\n",
              "      <td>0.02</td>\n",
              "      <td>Overcast</td>\n",
              "      <td>False</td>\n",
              "      <td>False</td>\n",
              "      <td>False</td>\n",
              "      <td>False</td>\n",
              "      <td>True</td>\n",
              "      <td>False</td>\n",
              "      <td>False</td>\n",
              "      <td>False</td>\n",
              "      <td>False</td>\n",
              "      <td>False</td>\n",
              "      <td>False</td>\n",
              "      <td>False</td>\n",
              "      <td>False</td>\n",
              "      <td>Night</td>\n",
              "      <td>Night</td>\n",
              "      <td>Night</td>\n",
              "      <td>Day</td>\n",
              "    </tr>\n",
              "    <tr>\n",
              "      <th>4</th>\n",
              "      <td>A-2716604</td>\n",
              "      <td>2</td>\n",
              "      <td>2016-02-08 06:51:45</td>\n",
              "      <td>2016-02-08 12:51:45</td>\n",
              "      <td>41.06213</td>\n",
              "      <td>-81.53784</td>\n",
              "      <td>41.06217</td>\n",
              "      <td>-81.53547</td>\n",
              "      <td>0.123</td>\n",
              "      <td>At Dart Ave/Exit 21 - Accident.</td>\n",
              "      <td>NaN</td>\n",
              "      <td>I-77 N</td>\n",
              "      <td>R</td>\n",
              "      <td>Akron</td>\n",
              "      <td>Summit</td>\n",
              "      <td>OH</td>\n",
              "      <td>44311</td>\n",
              "      <td>US</td>\n",
              "      <td>US/Eastern</td>\n",
              "      <td>KAKR</td>\n",
              "      <td>2016-02-08 06:54:00</td>\n",
              "      <td>39.0</td>\n",
              "      <td>NaN</td>\n",
              "      <td>55.0</td>\n",
              "      <td>29.65</td>\n",
              "      <td>10.0</td>\n",
              "      <td>Calm</td>\n",
              "      <td>NaN</td>\n",
              "      <td>NaN</td>\n",
              "      <td>Overcast</td>\n",
              "      <td>False</td>\n",
              "      <td>False</td>\n",
              "      <td>False</td>\n",
              "      <td>False</td>\n",
              "      <td>False</td>\n",
              "      <td>False</td>\n",
              "      <td>False</td>\n",
              "      <td>False</td>\n",
              "      <td>False</td>\n",
              "      <td>False</td>\n",
              "      <td>False</td>\n",
              "      <td>False</td>\n",
              "      <td>False</td>\n",
              "      <td>Night</td>\n",
              "      <td>Night</td>\n",
              "      <td>Day</td>\n",
              "      <td>Day</td>\n",
              "    </tr>\n",
              "    <tr>\n",
              "      <th>...</th>\n",
              "      <td>...</td>\n",
              "      <td>...</td>\n",
              "      <td>...</td>\n",
              "      <td>...</td>\n",
              "      <td>...</td>\n",
              "      <td>...</td>\n",
              "      <td>...</td>\n",
              "      <td>...</td>\n",
              "      <td>...</td>\n",
              "      <td>...</td>\n",
              "      <td>...</td>\n",
              "      <td>...</td>\n",
              "      <td>...</td>\n",
              "      <td>...</td>\n",
              "      <td>...</td>\n",
              "      <td>...</td>\n",
              "      <td>...</td>\n",
              "      <td>...</td>\n",
              "      <td>...</td>\n",
              "      <td>...</td>\n",
              "      <td>...</td>\n",
              "      <td>...</td>\n",
              "      <td>...</td>\n",
              "      <td>...</td>\n",
              "      <td>...</td>\n",
              "      <td>...</td>\n",
              "      <td>...</td>\n",
              "      <td>...</td>\n",
              "      <td>...</td>\n",
              "      <td>...</td>\n",
              "      <td>...</td>\n",
              "      <td>...</td>\n",
              "      <td>...</td>\n",
              "      <td>...</td>\n",
              "      <td>...</td>\n",
              "      <td>...</td>\n",
              "      <td>...</td>\n",
              "      <td>...</td>\n",
              "      <td>...</td>\n",
              "      <td>...</td>\n",
              "      <td>...</td>\n",
              "      <td>...</td>\n",
              "      <td>...</td>\n",
              "      <td>...</td>\n",
              "      <td>...</td>\n",
              "      <td>...</td>\n",
              "      <td>...</td>\n",
              "    </tr>\n",
              "    <tr>\n",
              "      <th>1516059</th>\n",
              "      <td>A-4239402</td>\n",
              "      <td>2</td>\n",
              "      <td>2019-08-23 18:03:25</td>\n",
              "      <td>2019-08-23 18:32:01</td>\n",
              "      <td>34.00248</td>\n",
              "      <td>-117.37936</td>\n",
              "      <td>33.99888</td>\n",
              "      <td>-117.37094</td>\n",
              "      <td>0.543</td>\n",
              "      <td>At Market St - Accident.</td>\n",
              "      <td>NaN</td>\n",
              "      <td>Pomona Fwy E</td>\n",
              "      <td>R</td>\n",
              "      <td>Riverside</td>\n",
              "      <td>Riverside</td>\n",
              "      <td>CA</td>\n",
              "      <td>92501</td>\n",
              "      <td>US</td>\n",
              "      <td>US/Pacific</td>\n",
              "      <td>KRAL</td>\n",
              "      <td>2019-08-23 17:53:00</td>\n",
              "      <td>86.0</td>\n",
              "      <td>86.0</td>\n",
              "      <td>40.0</td>\n",
              "      <td>28.92</td>\n",
              "      <td>10.0</td>\n",
              "      <td>W</td>\n",
              "      <td>13.0</td>\n",
              "      <td>0.00</td>\n",
              "      <td>Fair</td>\n",
              "      <td>False</td>\n",
              "      <td>False</td>\n",
              "      <td>False</td>\n",
              "      <td>False</td>\n",
              "      <td>False</td>\n",
              "      <td>False</td>\n",
              "      <td>False</td>\n",
              "      <td>False</td>\n",
              "      <td>False</td>\n",
              "      <td>False</td>\n",
              "      <td>False</td>\n",
              "      <td>False</td>\n",
              "      <td>False</td>\n",
              "      <td>Day</td>\n",
              "      <td>Day</td>\n",
              "      <td>Day</td>\n",
              "      <td>Day</td>\n",
              "    </tr>\n",
              "    <tr>\n",
              "      <th>1516060</th>\n",
              "      <td>A-4239403</td>\n",
              "      <td>2</td>\n",
              "      <td>2019-08-23 19:11:30</td>\n",
              "      <td>2019-08-23 19:38:23</td>\n",
              "      <td>32.76696</td>\n",
              "      <td>-117.14806</td>\n",
              "      <td>32.76555</td>\n",
              "      <td>-117.15363</td>\n",
              "      <td>0.338</td>\n",
              "      <td>At Camino Del Rio/Mission Center Rd - Accident.</td>\n",
              "      <td>NaN</td>\n",
              "      <td>I-8 W</td>\n",
              "      <td>R</td>\n",
              "      <td>San Diego</td>\n",
              "      <td>San Diego</td>\n",
              "      <td>CA</td>\n",
              "      <td>92108</td>\n",
              "      <td>US</td>\n",
              "      <td>US/Pacific</td>\n",
              "      <td>KMYF</td>\n",
              "      <td>2019-08-23 18:53:00</td>\n",
              "      <td>70.0</td>\n",
              "      <td>70.0</td>\n",
              "      <td>73.0</td>\n",
              "      <td>29.39</td>\n",
              "      <td>10.0</td>\n",
              "      <td>SW</td>\n",
              "      <td>6.0</td>\n",
              "      <td>0.00</td>\n",
              "      <td>Fair</td>\n",
              "      <td>False</td>\n",
              "      <td>False</td>\n",
              "      <td>False</td>\n",
              "      <td>False</td>\n",
              "      <td>False</td>\n",
              "      <td>False</td>\n",
              "      <td>False</td>\n",
              "      <td>False</td>\n",
              "      <td>False</td>\n",
              "      <td>False</td>\n",
              "      <td>False</td>\n",
              "      <td>False</td>\n",
              "      <td>False</td>\n",
              "      <td>Day</td>\n",
              "      <td>Day</td>\n",
              "      <td>Day</td>\n",
              "      <td>Day</td>\n",
              "    </tr>\n",
              "    <tr>\n",
              "      <th>1516061</th>\n",
              "      <td>A-4239404</td>\n",
              "      <td>2</td>\n",
              "      <td>2019-08-23 19:00:21</td>\n",
              "      <td>2019-08-23 19:28:49</td>\n",
              "      <td>33.77545</td>\n",
              "      <td>-117.84779</td>\n",
              "      <td>33.77740</td>\n",
              "      <td>-117.85727</td>\n",
              "      <td>0.561</td>\n",
              "      <td>At Glassell St/Grand Ave - Accident. in the ri...</td>\n",
              "      <td>NaN</td>\n",
              "      <td>Garden Grove Fwy</td>\n",
              "      <td>R</td>\n",
              "      <td>Orange</td>\n",
              "      <td>Orange</td>\n",
              "      <td>CA</td>\n",
              "      <td>92866</td>\n",
              "      <td>US</td>\n",
              "      <td>US/Pacific</td>\n",
              "      <td>KSNA</td>\n",
              "      <td>2019-08-23 18:53:00</td>\n",
              "      <td>73.0</td>\n",
              "      <td>73.0</td>\n",
              "      <td>64.0</td>\n",
              "      <td>29.74</td>\n",
              "      <td>10.0</td>\n",
              "      <td>SSW</td>\n",
              "      <td>10.0</td>\n",
              "      <td>0.00</td>\n",
              "      <td>Partly Cloudy</td>\n",
              "      <td>False</td>\n",
              "      <td>False</td>\n",
              "      <td>False</td>\n",
              "      <td>False</td>\n",
              "      <td>True</td>\n",
              "      <td>False</td>\n",
              "      <td>False</td>\n",
              "      <td>False</td>\n",
              "      <td>False</td>\n",
              "      <td>False</td>\n",
              "      <td>False</td>\n",
              "      <td>False</td>\n",
              "      <td>False</td>\n",
              "      <td>Day</td>\n",
              "      <td>Day</td>\n",
              "      <td>Day</td>\n",
              "      <td>Day</td>\n",
              "    </tr>\n",
              "    <tr>\n",
              "      <th>1516062</th>\n",
              "      <td>A-4239405</td>\n",
              "      <td>2</td>\n",
              "      <td>2019-08-23 19:00:21</td>\n",
              "      <td>2019-08-23 19:29:42</td>\n",
              "      <td>33.99246</td>\n",
              "      <td>-118.40302</td>\n",
              "      <td>33.98311</td>\n",
              "      <td>-118.39565</td>\n",
              "      <td>0.772</td>\n",
              "      <td>At CA-90/Marina Fwy/Jefferson Blvd - Accident.</td>\n",
              "      <td>NaN</td>\n",
              "      <td>San Diego Fwy S</td>\n",
              "      <td>R</td>\n",
              "      <td>Culver City</td>\n",
              "      <td>Los Angeles</td>\n",
              "      <td>CA</td>\n",
              "      <td>90230</td>\n",
              "      <td>US</td>\n",
              "      <td>US/Pacific</td>\n",
              "      <td>KSMO</td>\n",
              "      <td>2019-08-23 18:51:00</td>\n",
              "      <td>71.0</td>\n",
              "      <td>71.0</td>\n",
              "      <td>81.0</td>\n",
              "      <td>29.62</td>\n",
              "      <td>10.0</td>\n",
              "      <td>SW</td>\n",
              "      <td>8.0</td>\n",
              "      <td>0.00</td>\n",
              "      <td>Fair</td>\n",
              "      <td>False</td>\n",
              "      <td>False</td>\n",
              "      <td>False</td>\n",
              "      <td>False</td>\n",
              "      <td>False</td>\n",
              "      <td>False</td>\n",
              "      <td>False</td>\n",
              "      <td>False</td>\n",
              "      <td>False</td>\n",
              "      <td>False</td>\n",
              "      <td>False</td>\n",
              "      <td>False</td>\n",
              "      <td>False</td>\n",
              "      <td>Day</td>\n",
              "      <td>Day</td>\n",
              "      <td>Day</td>\n",
              "      <td>Day</td>\n",
              "    </tr>\n",
              "    <tr>\n",
              "      <th>1516063</th>\n",
              "      <td>A-4239406</td>\n",
              "      <td>2</td>\n",
              "      <td>2019-08-23 18:52:06</td>\n",
              "      <td>2019-08-23 19:21:31</td>\n",
              "      <td>34.13393</td>\n",
              "      <td>-117.23092</td>\n",
              "      <td>34.13736</td>\n",
              "      <td>-117.23934</td>\n",
              "      <td>0.537</td>\n",
              "      <td>At Highland Ave/Arden Ave - Accident.</td>\n",
              "      <td>NaN</td>\n",
              "      <td>CA-210 W</td>\n",
              "      <td>R</td>\n",
              "      <td>Highland</td>\n",
              "      <td>San Bernardino</td>\n",
              "      <td>CA</td>\n",
              "      <td>92346</td>\n",
              "      <td>US</td>\n",
              "      <td>US/Pacific</td>\n",
              "      <td>KSBD</td>\n",
              "      <td>2019-08-23 20:50:00</td>\n",
              "      <td>79.0</td>\n",
              "      <td>79.0</td>\n",
              "      <td>47.0</td>\n",
              "      <td>28.63</td>\n",
              "      <td>7.0</td>\n",
              "      <td>SW</td>\n",
              "      <td>7.0</td>\n",
              "      <td>0.00</td>\n",
              "      <td>Fair</td>\n",
              "      <td>False</td>\n",
              "      <td>False</td>\n",
              "      <td>False</td>\n",
              "      <td>False</td>\n",
              "      <td>False</td>\n",
              "      <td>False</td>\n",
              "      <td>False</td>\n",
              "      <td>False</td>\n",
              "      <td>False</td>\n",
              "      <td>False</td>\n",
              "      <td>False</td>\n",
              "      <td>False</td>\n",
              "      <td>False</td>\n",
              "      <td>Day</td>\n",
              "      <td>Day</td>\n",
              "      <td>Day</td>\n",
              "      <td>Day</td>\n",
              "    </tr>\n",
              "  </tbody>\n",
              "</table>\n",
              "<p>1516064 rows × 47 columns</p>\n",
              "</div>"
            ],
            "text/plain": [
              "                ID  Severity  ... Nautical_Twilight Astronomical_Twilight\n",
              "0        A-2716600         3  ...             Night                 Night\n",
              "1        A-2716601         2  ...             Night                 Night\n",
              "2        A-2716602         2  ...             Night                   Day\n",
              "3        A-2716603         2  ...             Night                   Day\n",
              "4        A-2716604         2  ...               Day                   Day\n",
              "...            ...       ...  ...               ...                   ...\n",
              "1516059  A-4239402         2  ...               Day                   Day\n",
              "1516060  A-4239403         2  ...               Day                   Day\n",
              "1516061  A-4239404         2  ...               Day                   Day\n",
              "1516062  A-4239405         2  ...               Day                   Day\n",
              "1516063  A-4239406         2  ...               Day                   Day\n",
              "\n",
              "[1516064 rows x 47 columns]"
            ]
          },
          "metadata": {},
          "execution_count": 12
        }
      ]
    },
    {
      "cell_type": "code",
      "metadata": {
        "colab": {
          "base_uri": "https://localhost:8080/"
        },
        "id": "gZWMwUbYzXsG",
        "outputId": "8fcdd1ce-68fd-4ed4-f1b8-31b5adf38947"
      },
      "source": [
        "df.columns"
      ],
      "execution_count": null,
      "outputs": [
        {
          "output_type": "execute_result",
          "data": {
            "text/plain": [
              "Index(['ID', 'Severity', 'Start_Time', 'End_Time', 'Start_Lat', 'Start_Lng',\n",
              "       'End_Lat', 'End_Lng', 'Distance(mi)', 'Description', 'Number', 'Street',\n",
              "       'Side', 'City', 'County', 'State', 'Zipcode', 'Country', 'Timezone',\n",
              "       'Airport_Code', 'Weather_Timestamp', 'Temperature(F)', 'Wind_Chill(F)',\n",
              "       'Humidity(%)', 'Pressure(in)', 'Visibility(mi)', 'Wind_Direction',\n",
              "       'Wind_Speed(mph)', 'Precipitation(in)', 'Weather_Condition', 'Amenity',\n",
              "       'Bump', 'Crossing', 'Give_Way', 'Junction', 'No_Exit', 'Railway',\n",
              "       'Roundabout', 'Station', 'Stop', 'Traffic_Calming', 'Traffic_Signal',\n",
              "       'Turning_Loop', 'Sunrise_Sunset', 'Civil_Twilight', 'Nautical_Twilight',\n",
              "       'Astronomical_Twilight'],\n",
              "      dtype='object')"
            ]
          },
          "metadata": {},
          "execution_count": 13
        }
      ]
    },
    {
      "cell_type": "code",
      "metadata": {
        "colab": {
          "base_uri": "https://localhost:8080/"
        },
        "id": "rO0xAaEp4Af5",
        "outputId": "0cfc7af7-df08-4933-8e09-b9311c5efa13"
      },
      "source": [
        "df.info()"
      ],
      "execution_count": null,
      "outputs": [
        {
          "output_type": "stream",
          "name": "stdout",
          "text": [
            "<class 'pandas.core.frame.DataFrame'>\n",
            "RangeIndex: 1516064 entries, 0 to 1516063\n",
            "Data columns (total 47 columns):\n",
            " #   Column                 Non-Null Count    Dtype  \n",
            "---  ------                 --------------    -----  \n",
            " 0   ID                     1516064 non-null  object \n",
            " 1   Severity               1516064 non-null  int64  \n",
            " 2   Start_Time             1516064 non-null  object \n",
            " 3   End_Time               1516064 non-null  object \n",
            " 4   Start_Lat              1516064 non-null  float64\n",
            " 5   Start_Lng              1516064 non-null  float64\n",
            " 6   End_Lat                1516064 non-null  float64\n",
            " 7   End_Lng                1516064 non-null  float64\n",
            " 8   Distance(mi)           1516064 non-null  float64\n",
            " 9   Description            1516064 non-null  object \n",
            " 10  Number                 469969 non-null   float64\n",
            " 11  Street                 1516064 non-null  object \n",
            " 12  Side                   1516064 non-null  object \n",
            " 13  City                   1515981 non-null  object \n",
            " 14  County                 1516064 non-null  object \n",
            " 15  State                  1516064 non-null  object \n",
            " 16  Zipcode                1515129 non-null  object \n",
            " 17  Country                1516064 non-null  object \n",
            " 18  Timezone               1513762 non-null  object \n",
            " 19  Airport_Code           1511816 non-null  object \n",
            " 20  Weather_Timestamp      1485800 non-null  object \n",
            " 21  Temperature(F)         1473031 non-null  float64\n",
            " 22  Wind_Chill(F)          1066748 non-null  float64\n",
            " 23  Humidity(%)            1470555 non-null  float64\n",
            " 24  Pressure(in)           1479790 non-null  float64\n",
            " 25  Visibility(mi)         1471853 non-null  float64\n",
            " 26  Wind_Direction         1474206 non-null  object \n",
            " 27  Wind_Speed(mph)        1387202 non-null  float64\n",
            " 28  Precipitation(in)      1005515 non-null  float64\n",
            " 29  Weather_Condition      1472057 non-null  object \n",
            " 30  Amenity                1516064 non-null  bool   \n",
            " 31  Bump                   1516064 non-null  bool   \n",
            " 32  Crossing               1516064 non-null  bool   \n",
            " 33  Give_Way               1516064 non-null  bool   \n",
            " 34  Junction               1516064 non-null  bool   \n",
            " 35  No_Exit                1516064 non-null  bool   \n",
            " 36  Railway                1516064 non-null  bool   \n",
            " 37  Roundabout             1516064 non-null  bool   \n",
            " 38  Station                1516064 non-null  bool   \n",
            " 39  Stop                   1516064 non-null  bool   \n",
            " 40  Traffic_Calming        1516064 non-null  bool   \n",
            " 41  Traffic_Signal         1516064 non-null  bool   \n",
            " 42  Turning_Loop           1516064 non-null  bool   \n",
            " 43  Sunrise_Sunset         1515981 non-null  object \n",
            " 44  Civil_Twilight         1515981 non-null  object \n",
            " 45  Nautical_Twilight      1515981 non-null  object \n",
            " 46  Astronomical_Twilight  1515981 non-null  object \n",
            "dtypes: bool(13), float64(13), int64(1), object(20)\n",
            "memory usage: 412.1+ MB\n"
          ]
        }
      ]
    },
    {
      "cell_type": "code",
      "metadata": {
        "colab": {
          "base_uri": "https://localhost:8080/",
          "height": 320
        },
        "id": "XlLUpHPB4LeV",
        "outputId": "6007c3aa-af21-4591-d3ad-6f8fe50da9c0"
      },
      "source": [
        "df.describe()"
      ],
      "execution_count": null,
      "outputs": [
        {
          "output_type": "execute_result",
          "data": {
            "text/html": [
              "<div>\n",
              "<style scoped>\n",
              "    .dataframe tbody tr th:only-of-type {\n",
              "        vertical-align: middle;\n",
              "    }\n",
              "\n",
              "    .dataframe tbody tr th {\n",
              "        vertical-align: top;\n",
              "    }\n",
              "\n",
              "    .dataframe thead th {\n",
              "        text-align: right;\n",
              "    }\n",
              "</style>\n",
              "<table border=\"1\" class=\"dataframe\">\n",
              "  <thead>\n",
              "    <tr style=\"text-align: right;\">\n",
              "      <th></th>\n",
              "      <th>Severity</th>\n",
              "      <th>Start_Lat</th>\n",
              "      <th>Start_Lng</th>\n",
              "      <th>End_Lat</th>\n",
              "      <th>End_Lng</th>\n",
              "      <th>Distance(mi)</th>\n",
              "      <th>Number</th>\n",
              "      <th>Temperature(F)</th>\n",
              "      <th>Wind_Chill(F)</th>\n",
              "      <th>Humidity(%)</th>\n",
              "      <th>Pressure(in)</th>\n",
              "      <th>Visibility(mi)</th>\n",
              "      <th>Wind_Speed(mph)</th>\n",
              "      <th>Precipitation(in)</th>\n",
              "    </tr>\n",
              "  </thead>\n",
              "  <tbody>\n",
              "    <tr>\n",
              "      <th>count</th>\n",
              "      <td>1.516064e+06</td>\n",
              "      <td>1.516064e+06</td>\n",
              "      <td>1.516064e+06</td>\n",
              "      <td>1.516064e+06</td>\n",
              "      <td>1.516064e+06</td>\n",
              "      <td>1.516064e+06</td>\n",
              "      <td>4.699690e+05</td>\n",
              "      <td>1.473031e+06</td>\n",
              "      <td>1.066748e+06</td>\n",
              "      <td>1.470555e+06</td>\n",
              "      <td>1.479790e+06</td>\n",
              "      <td>1.471853e+06</td>\n",
              "      <td>1.387202e+06</td>\n",
              "      <td>1.005515e+06</td>\n",
              "    </tr>\n",
              "    <tr>\n",
              "      <th>mean</th>\n",
              "      <td>2.238630e+00</td>\n",
              "      <td>3.690056e+01</td>\n",
              "      <td>-9.859919e+01</td>\n",
              "      <td>3.690061e+01</td>\n",
              "      <td>-9.859901e+01</td>\n",
              "      <td>5.872617e-01</td>\n",
              "      <td>8.907533e+03</td>\n",
              "      <td>5.958460e+01</td>\n",
              "      <td>5.510976e+01</td>\n",
              "      <td>6.465960e+01</td>\n",
              "      <td>2.955495e+01</td>\n",
              "      <td>9.131755e+00</td>\n",
              "      <td>7.630812e+00</td>\n",
              "      <td>8.477855e-03</td>\n",
              "    </tr>\n",
              "    <tr>\n",
              "      <th>std</th>\n",
              "      <td>6.081481e-01</td>\n",
              "      <td>5.165653e+00</td>\n",
              "      <td>1.849602e+01</td>\n",
              "      <td>5.165629e+00</td>\n",
              "      <td>1.849590e+01</td>\n",
              "      <td>1.632659e+00</td>\n",
              "      <td>2.242190e+04</td>\n",
              "      <td>1.827316e+01</td>\n",
              "      <td>2.112735e+01</td>\n",
              "      <td>2.325986e+01</td>\n",
              "      <td>1.016756e+00</td>\n",
              "      <td>2.889112e+00</td>\n",
              "      <td>5.637364e+00</td>\n",
              "      <td>1.293168e-01</td>\n",
              "    </tr>\n",
              "    <tr>\n",
              "      <th>min</th>\n",
              "      <td>1.000000e+00</td>\n",
              "      <td>2.457022e+01</td>\n",
              "      <td>-1.244976e+02</td>\n",
              "      <td>2.457011e+01</td>\n",
              "      <td>-1.244978e+02</td>\n",
              "      <td>0.000000e+00</td>\n",
              "      <td>0.000000e+00</td>\n",
              "      <td>-8.900000e+01</td>\n",
              "      <td>-8.900000e+01</td>\n",
              "      <td>1.000000e+00</td>\n",
              "      <td>0.000000e+00</td>\n",
              "      <td>0.000000e+00</td>\n",
              "      <td>0.000000e+00</td>\n",
              "      <td>0.000000e+00</td>\n",
              "    </tr>\n",
              "    <tr>\n",
              "      <th>25%</th>\n",
              "      <td>2.000000e+00</td>\n",
              "      <td>3.385422e+01</td>\n",
              "      <td>-1.182076e+02</td>\n",
              "      <td>3.385420e+01</td>\n",
              "      <td>-1.182077e+02</td>\n",
              "      <td>0.000000e+00</td>\n",
              "      <td>1.212000e+03</td>\n",
              "      <td>4.700000e+01</td>\n",
              "      <td>4.080000e+01</td>\n",
              "      <td>4.800000e+01</td>\n",
              "      <td>2.944000e+01</td>\n",
              "      <td>1.000000e+01</td>\n",
              "      <td>4.600000e+00</td>\n",
              "      <td>0.000000e+00</td>\n",
              "    </tr>\n",
              "    <tr>\n",
              "      <th>50%</th>\n",
              "      <td>2.000000e+00</td>\n",
              "      <td>3.735113e+01</td>\n",
              "      <td>-9.438100e+01</td>\n",
              "      <td>3.735134e+01</td>\n",
              "      <td>-9.437987e+01</td>\n",
              "      <td>1.780000e-01</td>\n",
              "      <td>4.000000e+03</td>\n",
              "      <td>6.100000e+01</td>\n",
              "      <td>5.700000e+01</td>\n",
              "      <td>6.800000e+01</td>\n",
              "      <td>2.988000e+01</td>\n",
              "      <td>1.000000e+01</td>\n",
              "      <td>7.000000e+00</td>\n",
              "      <td>0.000000e+00</td>\n",
              "    </tr>\n",
              "    <tr>\n",
              "      <th>75%</th>\n",
              "      <td>2.000000e+00</td>\n",
              "      <td>4.072593e+01</td>\n",
              "      <td>-8.087469e+01</td>\n",
              "      <td>4.072593e+01</td>\n",
              "      <td>-8.087449e+01</td>\n",
              "      <td>5.940000e-01</td>\n",
              "      <td>1.010000e+04</td>\n",
              "      <td>7.300000e+01</td>\n",
              "      <td>7.100000e+01</td>\n",
              "      <td>8.400000e+01</td>\n",
              "      <td>3.004000e+01</td>\n",
              "      <td>1.000000e+01</td>\n",
              "      <td>1.040000e+01</td>\n",
              "      <td>0.000000e+00</td>\n",
              "    </tr>\n",
              "    <tr>\n",
              "      <th>max</th>\n",
              "      <td>4.000000e+00</td>\n",
              "      <td>4.900058e+01</td>\n",
              "      <td>-6.711317e+01</td>\n",
              "      <td>4.907500e+01</td>\n",
              "      <td>-6.710924e+01</td>\n",
              "      <td>1.551860e+02</td>\n",
              "      <td>9.999997e+06</td>\n",
              "      <td>1.706000e+02</td>\n",
              "      <td>1.130000e+02</td>\n",
              "      <td>1.000000e+02</td>\n",
              "      <td>5.804000e+01</td>\n",
              "      <td>1.400000e+02</td>\n",
              "      <td>9.840000e+02</td>\n",
              "      <td>2.400000e+01</td>\n",
              "    </tr>\n",
              "  </tbody>\n",
              "</table>\n",
              "</div>"
            ],
            "text/plain": [
              "           Severity     Start_Lat  ...  Wind_Speed(mph)  Precipitation(in)\n",
              "count  1.516064e+06  1.516064e+06  ...     1.387202e+06       1.005515e+06\n",
              "mean   2.238630e+00  3.690056e+01  ...     7.630812e+00       8.477855e-03\n",
              "std    6.081481e-01  5.165653e+00  ...     5.637364e+00       1.293168e-01\n",
              "min    1.000000e+00  2.457022e+01  ...     0.000000e+00       0.000000e+00\n",
              "25%    2.000000e+00  3.385422e+01  ...     4.600000e+00       0.000000e+00\n",
              "50%    2.000000e+00  3.735113e+01  ...     7.000000e+00       0.000000e+00\n",
              "75%    2.000000e+00  4.072593e+01  ...     1.040000e+01       0.000000e+00\n",
              "max    4.000000e+00  4.900058e+01  ...     9.840000e+02       2.400000e+01\n",
              "\n",
              "[8 rows x 14 columns]"
            ]
          },
          "metadata": {},
          "execution_count": 15
        }
      ]
    },
    {
      "cell_type": "code",
      "metadata": {
        "colab": {
          "base_uri": "https://localhost:8080/"
        },
        "id": "BAh6jfEJ5Xan",
        "outputId": "4b02eb67-cde1-4b76-feab-2736690263a1"
      },
      "source": [
        "numerics=['bool']\n",
        "numerics_df=df.select_dtypes(include=numerics)\n",
        "len(numerics_df.columns)"
      ],
      "execution_count": null,
      "outputs": [
        {
          "output_type": "execute_result",
          "data": {
            "text/plain": [
              "13"
            ]
          },
          "metadata": {},
          "execution_count": 16
        }
      ]
    },
    {
      "cell_type": "code",
      "metadata": {
        "colab": {
          "base_uri": "https://localhost:8080/"
        },
        "id": "4QvGRfQT5XpS",
        "outputId": "38cfab26-19f3-4e31-a93f-79ddd8e8eca5"
      },
      "source": [
        "mising_percentage=df.isna().sum().sort_values()/len(df)\n",
        "mising_percentage\n"
      ],
      "execution_count": null,
      "outputs": [
        {
          "output_type": "execute_result",
          "data": {
            "text/plain": [
              "ID                       0.000000\n",
              "Crossing                 0.000000\n",
              "Give_Way                 0.000000\n",
              "Junction                 0.000000\n",
              "No_Exit                  0.000000\n",
              "Railway                  0.000000\n",
              "Roundabout               0.000000\n",
              "Station                  0.000000\n",
              "Stop                     0.000000\n",
              "Traffic_Calming          0.000000\n",
              "Traffic_Signal           0.000000\n",
              "Country                  0.000000\n",
              "Turning_Loop             0.000000\n",
              "State                    0.000000\n",
              "County                   0.000000\n",
              "Side                     0.000000\n",
              "Street                   0.000000\n",
              "Description              0.000000\n",
              "Distance(mi)             0.000000\n",
              "End_Lng                  0.000000\n",
              "End_Lat                  0.000000\n",
              "Start_Lng                0.000000\n",
              "Start_Lat                0.000000\n",
              "End_Time                 0.000000\n",
              "Start_Time               0.000000\n",
              "Severity                 0.000000\n",
              "Bump                     0.000000\n",
              "Amenity                  0.000000\n",
              "Sunrise_Sunset           0.000055\n",
              "Civil_Twilight           0.000055\n",
              "Astronomical_Twilight    0.000055\n",
              "Nautical_Twilight        0.000055\n",
              "City                     0.000055\n",
              "Zipcode                  0.000617\n",
              "Timezone                 0.001518\n",
              "Airport_Code             0.002802\n",
              "Weather_Timestamp        0.019962\n",
              "Pressure(in)             0.023926\n",
              "Wind_Direction           0.027610\n",
              "Temperature(F)           0.028385\n",
              "Weather_Condition        0.029027\n",
              "Visibility(mi)           0.029162\n",
              "Humidity(%)              0.030018\n",
              "Wind_Speed(mph)          0.084998\n",
              "Wind_Chill(F)            0.296370\n",
              "Precipitation(in)        0.336760\n",
              "Number                   0.690007\n",
              "dtype: float64"
            ]
          },
          "metadata": {},
          "execution_count": 17
        }
      ]
    },
    {
      "cell_type": "code",
      "metadata": {
        "colab": {
          "base_uri": "https://localhost:8080/"
        },
        "id": "-MBmVbHzBAsA",
        "outputId": "2d47e5bc-82bb-46da-f4f3-3e2603fa7dba"
      },
      "source": [
        "mising_percentage !=0"
      ],
      "execution_count": null,
      "outputs": [
        {
          "output_type": "execute_result",
          "data": {
            "text/plain": [
              "ID                       False\n",
              "Crossing                 False\n",
              "Give_Way                 False\n",
              "Junction                 False\n",
              "No_Exit                  False\n",
              "Railway                  False\n",
              "Roundabout               False\n",
              "Station                  False\n",
              "Stop                     False\n",
              "Traffic_Calming          False\n",
              "Traffic_Signal           False\n",
              "Country                  False\n",
              "Turning_Loop             False\n",
              "State                    False\n",
              "County                   False\n",
              "Side                     False\n",
              "Street                   False\n",
              "Description              False\n",
              "Distance(mi)             False\n",
              "End_Lng                  False\n",
              "End_Lat                  False\n",
              "Start_Lng                False\n",
              "Start_Lat                False\n",
              "End_Time                 False\n",
              "Start_Time               False\n",
              "Severity                 False\n",
              "Bump                     False\n",
              "Amenity                  False\n",
              "Sunrise_Sunset            True\n",
              "Civil_Twilight            True\n",
              "Astronomical_Twilight     True\n",
              "Nautical_Twilight         True\n",
              "City                      True\n",
              "Zipcode                   True\n",
              "Timezone                  True\n",
              "Airport_Code              True\n",
              "Weather_Timestamp         True\n",
              "Pressure(in)              True\n",
              "Wind_Direction            True\n",
              "Temperature(F)            True\n",
              "Weather_Condition         True\n",
              "Visibility(mi)            True\n",
              "Humidity(%)               True\n",
              "Wind_Speed(mph)           True\n",
              "Wind_Chill(F)             True\n",
              "Precipitation(in)         True\n",
              "Number                    True\n",
              "dtype: bool"
            ]
          },
          "metadata": {},
          "execution_count": 18
        }
      ]
    },
    {
      "cell_type": "code",
      "metadata": {
        "colab": {
          "base_uri": "https://localhost:8080/",
          "height": 283
        },
        "id": "5EiZAvu-Bd8_",
        "outputId": "8902785e-1c85-4c05-dd40-ec9f83dd9b82"
      },
      "source": [
        "mising_percentage[mising_percentage!=0].plot(kind='barh')"
      ],
      "execution_count": null,
      "outputs": [
        {
          "output_type": "execute_result",
          "data": {
            "text/plain": [
              "<matplotlib.axes._subplots.AxesSubplot at 0x7f0543367410>"
            ]
          },
          "metadata": {},
          "execution_count": 19
        },
        {
          "output_type": "display_data",
          "data": {
            "image/png": "[encoded data removed]",
            "text/plain": [
              "<Figure size 432x288 with 1 Axes>"
            ]
          },
          "metadata": {
            "needs_background": "light"
          }
        }
      ]
    },
    {
      "cell_type": "markdown",
      "metadata": {
        "id": "P8q2H5qRCONA"
      },
      "source": [
        "#Remove columns that you don't want to use"
      ]
    },
    {
      "cell_type": "code",
      "metadata": {
        "id": "b9LtGRXmCX9s"
      },
      "source": [
        ""
      ],
      "execution_count": null,
      "outputs": []
    },
    {
      "cell_type": "code",
      "metadata": {
        "id": "QNsSMVw4C5R7"
      },
      "source": [
        ""
      ],
      "execution_count": null,
      "outputs": []
    },
    {
      "cell_type": "markdown",
      "metadata": {
        "id": "p_slx_fkC6Xk"
      },
      "source": [
        "# Exploratory Analysis and Visualization\n",
        "Columns we'll analyse\n",
        "\n",
        "1.City\n",
        "\n",
        "2.Start_Time\n",
        "\n",
        "3.Start lat,start lng\n",
        "\n",
        "4.Temperature\n",
        "\n",
        "5.Weather Conditions"
      ]
    },
    {
      "cell_type": "markdown",
      "metadata": {
        "id": "sJ5WgwEd0hl6"
      },
      "source": [
        "###City"
      ]
    },
    {
      "cell_type": "code",
      "metadata": {
        "colab": {
          "base_uri": "https://localhost:8080/"
        },
        "id": "JQ9NaAvgDRTI",
        "outputId": "30ad140a-160b-4df2-9796-4563b2f2713e"
      },
      "source": [
        "df.columns\n"
      ],
      "execution_count": null,
      "outputs": [
        {
          "output_type": "execute_result",
          "data": {
            "text/plain": [
              "Index(['ID', 'Severity', 'Start_Time', 'End_Time', 'Start_Lat', 'Start_Lng',\n",
              "       'End_Lat', 'End_Lng', 'Distance(mi)', 'Description', 'Number', 'Street',\n",
              "       'Side', 'City', 'County', 'State', 'Zipcode', 'Country', 'Timezone',\n",
              "       'Airport_Code', 'Weather_Timestamp', 'Temperature(F)', 'Wind_Chill(F)',\n",
              "       'Humidity(%)', 'Pressure(in)', 'Visibility(mi)', 'Wind_Direction',\n",
              "       'Wind_Speed(mph)', 'Precipitation(in)', 'Weather_Condition', 'Amenity',\n",
              "       'Bump', 'Crossing', 'Give_Way', 'Junction', 'No_Exit', 'Railway',\n",
              "       'Roundabout', 'Station', 'Stop', 'Traffic_Calming', 'Traffic_Signal',\n",
              "       'Turning_Loop', 'Sunrise_Sunset', 'Civil_Twilight', 'Nautical_Twilight',\n",
              "       'Astronomical_Twilight'],\n",
              "      dtype='object')"
            ]
          },
          "metadata": {},
          "execution_count": 20
        }
      ]
    },
    {
      "cell_type": "code",
      "metadata": {
        "colab": {
          "base_uri": "https://localhost:8080/"
        },
        "id": "QD_-Si1zEFJ2",
        "outputId": "6dc96a36-9dc1-497c-d7f6-895240a98c01"
      },
      "source": [
        "cities=df.City.unique()\n",
        "len(cities)"
      ],
      "execution_count": null,
      "outputs": [
        {
          "output_type": "execute_result",
          "data": {
            "text/plain": [
              "10658"
            ]
          },
          "metadata": {},
          "execution_count": 21
        }
      ]
    },
    {
      "cell_type": "code",
      "metadata": {
        "colab": {
          "base_uri": "https://localhost:8080/"
        },
        "id": "nrb652OCF07d",
        "outputId": "e0e8cd35-a0fb-4e1a-e122-f0582619a618"
      },
      "source": [
        "cities_by_accident=df.City.value_counts()\n",
        "cities_by_accident"
      ],
      "execution_count": null,
      "outputs": [
        {
          "output_type": "execute_result",
          "data": {
            "text/plain": [
              "Los Angeles      39984\n",
              "Miami            36233\n",
              "Charlotte        22203\n",
              "Houston          20843\n",
              "Dallas           19497\n",
              "                 ...  \n",
              "Gloverville          1\n",
              "Black River          1\n",
              "Normandy Park        1\n",
              "Headrick             1\n",
              "Bunnlevel            1\n",
              "Name: City, Length: 10657, dtype: int64"
            ]
          },
          "metadata": {},
          "execution_count": 22
        }
      ]
    },
    {
      "cell_type": "code",
      "metadata": {
        "colab": {
          "base_uri": "https://localhost:8080/"
        },
        "id": "24tuQGz1GYwR",
        "outputId": "1df26da4-f20d-400c-862d-37c5e68347e3"
      },
      "source": [
        "cities_by_accident[:10]"
      ],
      "execution_count": null,
      "outputs": [
        {
          "output_type": "execute_result",
          "data": {
            "text/plain": [
              "Los Angeles    39984\n",
              "Miami          36233\n",
              "Charlotte      22203\n",
              "Houston        20843\n",
              "Dallas         19497\n",
              "Sacramento     18431\n",
              "Orlando        16169\n",
              "Portland       14805\n",
              "San Diego      14090\n",
              "Minneapolis    12653\n",
              "Name: City, dtype: int64"
            ]
          },
          "metadata": {},
          "execution_count": 23
        }
      ]
    },
    {
      "cell_type": "code",
      "metadata": {
        "colab": {
          "base_uri": "https://localhost:8080/"
        },
        "id": "qQ1iKmBJOVDU",
        "outputId": "d7ce0146-150f-4c76-d312-e7d18a4fae7b"
      },
      "source": [
        "New_York_Length=df[df['City'] == 'New York']\n",
        "len(New_York_Length)"
      ],
      "execution_count": null,
      "outputs": [
        {
          "output_type": "execute_result",
          "data": {
            "text/plain": [
              "4220"
            ]
          },
          "metadata": {},
          "execution_count": 24
        }
      ]
    },
    {
      "cell_type": "code",
      "metadata": {
        "colab": {
          "base_uri": "https://localhost:8080/",
          "height": 283
        },
        "id": "E7gqRRNbJW-J",
        "outputId": "345949df-14e6-44d7-ffe4-fb631e1bfce2"
      },
      "source": [
        "cities_by_accident[:10].plot(kind='barh')"
      ],
      "execution_count": null,
      "outputs": [
        {
          "output_type": "execute_result",
          "data": {
            "text/plain": [
              "<matplotlib.axes._subplots.AxesSubplot at 0x7f05432bc650>"
            ]
          },
          "metadata": {},
          "execution_count": 25
        },
        {
          "output_type": "display_data",
          "data": {
            "image/png": "[encoded data removed]",
            "text/plain": [
              "<Figure size 432x288 with 1 Axes>"
            ]
          },
          "metadata": {
            "needs_background": "light"
          }
        }
      ]
    },
    {
      "cell_type": "code",
      "metadata": {
        "id": "vuPqzIGML2kd"
      },
      "source": [
        "high_accident_cities=cities_by_accident[cities_by_accident>=1000]\n",
        "low_accident_cities=cities_by_accident[cities_by_accident<1000]"
      ],
      "execution_count": null,
      "outputs": []
    },
    {
      "cell_type": "code",
      "metadata": {
        "colab": {
          "base_uri": "https://localhost:8080/"
        },
        "id": "doO8MdwdMTrC",
        "outputId": "767ad117-adcd-4eda-da6c-289b8bc6cef5"
      },
      "source": [
        "len(high_accident_cities)/len(cities)"
      ],
      "execution_count": null,
      "outputs": [
        {
          "output_type": "execute_result",
          "data": {
            "text/plain": [
              "0.023550384687558643"
            ]
          },
          "metadata": {},
          "execution_count": 27
        }
      ]
    },
    {
      "cell_type": "code",
      "metadata": {
        "colab": {
          "base_uri": "https://localhost:8080/"
        },
        "id": "oP25c7PBPtKW",
        "outputId": "edb1be83-3add-4959-afa1-5e1248eba44b"
      },
      "source": [
        "cities_by_accident[cities_by_accident == 1]"
      ],
      "execution_count": null,
      "outputs": [
        {
          "output_type": "execute_result",
          "data": {
            "text/plain": [
              "Grabill          1\n",
              "Gibbsboro        1\n",
              "Dewey Beach      1\n",
              "Rawson           1\n",
              "Brushton         1\n",
              "                ..\n",
              "Gloverville      1\n",
              "Black River      1\n",
              "Normandy Park    1\n",
              "Headrick         1\n",
              "Bunnlevel        1\n",
              "Name: City, Length: 1167, dtype: int64"
            ]
          },
          "metadata": {},
          "execution_count": 28
        }
      ]
    },
    {
      "cell_type": "markdown",
      "metadata": {
        "id": "D2gNdU2k0lnd"
      },
      "source": [
        "###Start Time"
      ]
    },
    {
      "cell_type": "code",
      "metadata": {
        "colab": {
          "base_uri": "https://localhost:8080/"
        },
        "id": "PJbMcXUp0pLJ",
        "outputId": "a02a963d-ee85-403a-8580-5c070751d42a"
      },
      "source": [
        "df.Start_Time"
      ],
      "execution_count": null,
      "outputs": [
        {
          "output_type": "execute_result",
          "data": {
            "text/plain": [
              "0          2016-02-08 00:37:08\n",
              "1          2016-02-08 05:56:20\n",
              "2          2016-02-08 06:15:39\n",
              "3          2016-02-08 06:15:39\n",
              "4          2016-02-08 06:51:45\n",
              "                  ...         \n",
              "1516059    2019-08-23 18:03:25\n",
              "1516060    2019-08-23 19:11:30\n",
              "1516061    2019-08-23 19:00:21\n",
              "1516062    2019-08-23 19:00:21\n",
              "1516063    2019-08-23 18:52:06\n",
              "Name: Start_Time, Length: 1516064, dtype: object"
            ]
          },
          "metadata": {},
          "execution_count": 29
        }
      ]
    },
    {
      "cell_type": "code",
      "metadata": {
        "colab": {
          "base_uri": "https://localhost:8080/"
        },
        "id": "t1zsfK6J029r",
        "outputId": "a4ab5804-a04b-4810-8dbf-e9c00de9cf98"
      },
      "source": [
        "pd.to_datetime(df.Start_Time)"
      ],
      "execution_count": null,
      "outputs": [
        {
          "output_type": "execute_result",
          "data": {
            "text/plain": [
              "0         2016-02-08 00:37:08\n",
              "1         2016-02-08 05:56:20\n",
              "2         2016-02-08 06:15:39\n",
              "3         2016-02-08 06:15:39\n",
              "4         2016-02-08 06:51:45\n",
              "                  ...        \n",
              "1516059   2019-08-23 18:03:25\n",
              "1516060   2019-08-23 19:11:30\n",
              "1516061   2019-08-23 19:00:21\n",
              "1516062   2019-08-23 19:00:21\n",
              "1516063   2019-08-23 18:52:06\n",
              "Name: Start_Time, Length: 1516064, dtype: datetime64[ns]"
            ]
          },
          "metadata": {},
          "execution_count": 30
        }
      ]
    },
    {
      "cell_type": "code",
      "metadata": {
        "id": "MMkc6Yx902x-"
      },
      "source": [
        "df.Start_Time=pd.to_datetime(df.Start_Time)"
      ],
      "execution_count": null,
      "outputs": []
    },
    {
      "cell_type": "code",
      "metadata": {
        "colab": {
          "base_uri": "https://localhost:8080/"
        },
        "id": "QYyt53vA0o7_",
        "outputId": "f8c6a41b-f673-44a2-b35b-a96903cf907b"
      },
      "source": [
        "df.Start_Time.dt.hour"
      ],
      "execution_count": null,
      "outputs": [
        {
          "output_type": "execute_result",
          "data": {
            "text/plain": [
              "0           0\n",
              "1           5\n",
              "2           6\n",
              "3           6\n",
              "4           6\n",
              "           ..\n",
              "1516059    18\n",
              "1516060    19\n",
              "1516061    19\n",
              "1516062    19\n",
              "1516063    18\n",
              "Name: Start_Time, Length: 1516064, dtype: int64"
            ]
          },
          "metadata": {},
          "execution_count": 32
        }
      ]
    },
    {
      "cell_type": "code",
      "metadata": {
        "id": "oHprGZv05UgU"
      },
      "source": [
        "import seaborn as sns"
      ],
      "execution_count": null,
      "outputs": []
    },
    {
      "cell_type": "code",
      "metadata": {
        "colab": {
          "base_uri": "https://localhost:8080/",
          "height": 352
        },
        "id": "sA9eupI24x_3",
        "outputId": "7bee5a12-c105-4a57-a5af-5db23deb1d0f"
      },
      "source": [
        "sns.distplot(df.Start_Time.dt.hour,bins=24,kde=False,norm_hist=True)"
      ],
      "execution_count": null,
      "outputs": [
        {
          "output_type": "stream",
          "name": "stderr",
          "text": [
            "/usr/local/lib/python3.7/dist-packages/seaborn/distributions.py:2619: FutureWarning: `distplot` is a deprecated function and will be removed in a future version. Please adapt your code to use either `displot` (a figure-level function with similar flexibility) or `histplot` (an axes-level function for histograms).\n",
            "  warnings.warn(msg, FutureWarning)\n"
          ]
        },
        {
          "output_type": "execute_result",
          "data": {
            "text/plain": [
              "<matplotlib.axes._subplots.AxesSubplot at 0x7f0534b5a1d0>"
            ]
          },
          "metadata": {},
          "execution_count": 34
        },
        {
          "output_type": "display_data",
          "data": {
            "image/png": "[encoded data removed]",
            "text/plain": [
              "<Figure size 432x288 with 1 Axes>"
            ]
          },
          "metadata": {
            "needs_background": "light"
          }
        }
      ]
    },
    {
      "cell_type": "code",
      "metadata": {
        "colab": {
          "base_uri": "https://localhost:8080/",
          "height": 352
        },
        "id": "nf03LWp05z9C",
        "outputId": "df5db6fe-c8ef-40c3-b376-911b2c6c7923"
      },
      "source": [
        "sns.distplot(df.Start_Time.dt.dayofweek,bins=7,kde=False,norm_hist=True)"
      ],
      "execution_count": null,
      "outputs": [
        {
          "output_type": "stream",
          "name": "stderr",
          "text": [
            "/usr/local/lib/python3.7/dist-packages/seaborn/distributions.py:2619: FutureWarning: `distplot` is a deprecated function and will be removed in a future version. Please adapt your code to use either `displot` (a figure-level function with similar flexibility) or `histplot` (an axes-level function for histograms).\n",
            "  warnings.warn(msg, FutureWarning)\n"
          ]
        },
        {
          "output_type": "execute_result",
          "data": {
            "text/plain": [
              "<matplotlib.axes._subplots.AxesSubplot at 0x7f0534330050>"
            ]
          },
          "metadata": {},
          "execution_count": 35
        },
        {
          "output_type": "display_data",
          "data": {
            "image/png": "[encoded data removed]",
            "text/plain": [
              "<Figure size 432x288 with 1 Axes>"
            ]
          },
          "metadata": {
            "needs_background": "light"
          }
        }
      ]
    },
    {
      "cell_type": "code",
      "metadata": {
        "colab": {
          "base_uri": "https://localhost:8080/",
          "height": 352
        },
        "id": "pZG2oXaOBJcE",
        "outputId": "f13c3b16-6b87-48fa-c8cd-512a55308fc9"
      },
      "source": [
        "sundays_start_time=df.Start_Time[df.Start_Time.dt.dayofweek == 6]\n",
        "sns.distplot(sundays_start_time.dt.hour,bins=24,kde=False,norm_hist=True)"
      ],
      "execution_count": null,
      "outputs": [
        {
          "output_type": "stream",
          "name": "stderr",
          "text": [
            "/usr/local/lib/python3.7/dist-packages/seaborn/distributions.py:2619: FutureWarning: `distplot` is a deprecated function and will be removed in a future version. Please adapt your code to use either `displot` (a figure-level function with similar flexibility) or `histplot` (an axes-level function for histograms).\n",
            "  warnings.warn(msg, FutureWarning)\n"
          ]
        },
        {
          "output_type": "execute_result",
          "data": {
            "text/plain": [
              "<matplotlib.axes._subplots.AxesSubplot at 0x7f05342b97d0>"
            ]
          },
          "metadata": {},
          "execution_count": 36
        },
        {
          "output_type": "display_data",
          "data": {
            "image/png": "[encoded data removed]",
            "text/plain": [
              "<Figure size 432x288 with 1 Axes>"
            ]
          },
          "metadata": {
            "needs_background": "light"
          }
        }
      ]
    },
    {
      "cell_type": "code",
      "metadata": {
        "colab": {
          "base_uri": "https://localhost:8080/",
          "height": 354
        },
        "id": "Xzexupx1B5tA",
        "outputId": "40b9e929-2f32-409c-a7e5-a519fe44b5a4"
      },
      "source": [
        "monday_start_time=df.Start_Time[df.Start_Time.dt.dayofweek == 0]\n",
        "sns.distplot(monday_start_time.dt.hour,bins=24,kde=False,norm_hist=True)"
      ],
      "execution_count": null,
      "outputs": [
        {
          "output_type": "stream",
          "name": "stderr",
          "text": [
            "/usr/local/lib/python3.7/dist-packages/seaborn/distributions.py:2619: FutureWarning: `distplot` is a deprecated function and will be removed in a future version. Please adapt your code to use either `displot` (a figure-level function with similar flexibility) or `histplot` (an axes-level function for histograms).\n",
            "  warnings.warn(msg, FutureWarning)\n"
          ]
        },
        {
          "output_type": "execute_result",
          "data": {
            "text/plain": [
              "<matplotlib.axes._subplots.AxesSubplot at 0x7f05341f9fd0>"
            ]
          },
          "metadata": {},
          "execution_count": 37
        },
        {
          "output_type": "display_data",
          "data": {
            "image/png": "[encoded data removed]",
            "text/plain": [
              "<Figure size 432x288 with 1 Axes>"
            ]
          },
          "metadata": {
            "needs_background": "light"
          }
        }
      ]
    },
    {
      "cell_type": "code",
      "metadata": {
        "colab": {
          "base_uri": "https://localhost:8080/",
          "height": 352
        },
        "id": "rXtyp5IqCvmc",
        "outputId": "5281d582-53ae-4475-a2b6-15072cd6d686"
      },
      "source": [
        "\n",
        "sns.distplot(df.Start_Time.dt.month,bins=12,kde=False,norm_hist=True)"
      ],
      "execution_count": null,
      "outputs": [
        {
          "output_type": "stream",
          "name": "stderr",
          "text": [
            "/usr/local/lib/python3.7/dist-packages/seaborn/distributions.py:2619: FutureWarning: `distplot` is a deprecated function and will be removed in a future version. Please adapt your code to use either `displot` (a figure-level function with similar flexibility) or `histplot` (an axes-level function for histograms).\n",
            "  warnings.warn(msg, FutureWarning)\n"
          ]
        },
        {
          "output_type": "execute_result",
          "data": {
            "text/plain": [
              "<matplotlib.axes._subplots.AxesSubplot at 0x7f0534122610>"
            ]
          },
          "metadata": {},
          "execution_count": 38
        },
        {
          "output_type": "display_data",
          "data": {
            "image/png": "[encoded data removed]",
            "text/plain": [
              "<Figure size 432x288 with 1 Axes>"
            ]
          },
          "metadata": {
            "needs_background": "light"
          }
        }
      ]
    },
    {
      "cell_type": "markdown",
      "metadata": {
        "id": "4CvbrRkAHrdi"
      },
      "source": [
        "### Start Latitude and Longitude"
      ]
    },
    {
      "cell_type": "code",
      "metadata": {
        "colab": {
          "base_uri": "https://localhost:8080/"
        },
        "id": "dNYoeFVdHwxY",
        "outputId": "2fd23a9b-3fcb-499d-a603-f49baa9065b3"
      },
      "source": [
        "df.Start_Lat"
      ],
      "execution_count": null,
      "outputs": [
        {
          "output_type": "execute_result",
          "data": {
            "text/plain": [
              "0          40.10891\n",
              "1          39.86542\n",
              "2          39.10266\n",
              "3          39.10148\n",
              "4          41.06213\n",
              "             ...   \n",
              "1516059    34.00248\n",
              "1516060    32.76696\n",
              "1516061    33.77545\n",
              "1516062    33.99246\n",
              "1516063    34.13393\n",
              "Name: Start_Lat, Length: 1516064, dtype: float64"
            ]
          },
          "metadata": {},
          "execution_count": 39
        }
      ]
    },
    {
      "cell_type": "code",
      "metadata": {
        "colab": {
          "base_uri": "https://localhost:8080/"
        },
        "id": "OgcIblwKHrJP",
        "outputId": "dafd9ef7-f6bd-43fc-f6be-19222765c257"
      },
      "source": [
        "df.Start_Lng"
      ],
      "execution_count": null,
      "outputs": [
        {
          "output_type": "execute_result",
          "data": {
            "text/plain": [
              "0          -83.09286\n",
              "1          -84.06280\n",
              "2          -84.52468\n",
              "3          -84.52341\n",
              "4          -81.53784\n",
              "             ...    \n",
              "1516059   -117.37936\n",
              "1516060   -117.14806\n",
              "1516061   -117.84779\n",
              "1516062   -118.40302\n",
              "1516063   -117.23092\n",
              "Name: Start_Lng, Length: 1516064, dtype: float64"
            ]
          },
          "metadata": {},
          "execution_count": 40
        }
      ]
    },
    {
      "cell_type": "code",
      "metadata": {
        "colab": {
          "base_uri": "https://localhost:8080/",
          "height": 299
        },
        "id": "yIZTGSnBKAYz",
        "outputId": "0607b533-7b95-483a-ee7f-f1f96c53bf48"
      },
      "source": [
        "sns.scatterplot(x=df.Start_Lng,y=df.Start_Lat)"
      ],
      "execution_count": null,
      "outputs": [
        {
          "output_type": "execute_result",
          "data": {
            "text/plain": [
              "<matplotlib.axes._subplots.AxesSubplot at 0x7f05340a8a50>"
            ]
          },
          "metadata": {},
          "execution_count": 41
        },
        {
          "output_type": "display_data",
          "data": {
            "image/png": "[encoded data removed]",
            "text/plain": [
              "<Figure size 432x288 with 1 Axes>"
            ]
          },
          "metadata": {
            "needs_background": "light"
          }
        }
      ]
    },
    {
      "cell_type": "code",
      "metadata": {
        "id": "ivUhdRcPBrCz"
      },
      "source": [
        "import folium"
      ],
      "execution_count": null,
      "outputs": []
    },
    {
      "cell_type": "code",
      "metadata": {
        "colab": {
          "base_uri": "https://localhost:8080/"
        },
        "id": "JrD7gadiBuW9",
        "outputId": "406badfe-013d-46a0-f13f-a10e58e29036"
      },
      "source": [
        "lat,lon=df.Start_Lat[0],df.Start_Lng[0]\n",
        "lat,lon"
      ],
      "execution_count": null,
      "outputs": [
        {
          "output_type": "execute_result",
          "data": {
            "text/plain": [
              "(40.108909999999995, -83.09286)"
            ]
          },
          "metadata": {},
          "execution_count": 43
        }
      ]
    },
    {
      "cell_type": "code",
      "metadata": {
        "colab": {
          "base_uri": "https://localhost:8080/"
        },
        "id": "S7P7crNcBuSY",
        "outputId": "b71e01c4-59e8-4cc4-d515-b9def44e5572"
      },
      "source": [
        "for x in df[['Start_Lat','Start_Lng']].sample(100).iteritems():\n",
        "  print(x[1])"
      ],
      "execution_count": null,
      "outputs": [
        {
          "output_type": "stream",
          "name": "stdout",
          "text": [
            "1193445    44.693954\n",
            "20969      29.736726\n",
            "848980     36.638587\n",
            "930156     36.750362\n",
            "552453     38.875028\n",
            "             ...    \n",
            "73052      27.872330\n",
            "716125     40.895731\n",
            "747784     32.148670\n",
            "1161938    42.479880\n",
            "53868      40.172195\n",
            "Name: Start_Lat, Length: 100, dtype: float64\n",
            "1193445   -121.981984\n",
            "20969      -95.501000\n",
            "848980    -119.697349\n",
            "930156    -119.790549\n",
            "552453     -77.283208\n",
            "              ...    \n",
            "73052      -82.745510\n",
            "716125     -73.816784\n",
            "747784    -110.977570\n",
            "1161938    -88.295800\n",
            "53868      -77.283905\n",
            "Name: Start_Lng, Length: 100, dtype: float64\n"
          ]
        }
      ]
    },
    {
      "cell_type": "code",
      "metadata": {
        "colab": {
          "base_uri": "https://localhost:8080/"
        },
        "id": "wQW7ZjO7CS6O",
        "outputId": "d4b7865f-9dc3-4122-83b4-f8d604327ec0"
      },
      "source": [
        "list(zip(list(df.Start_Lat),list(df.Start_Lng)))"
      ],
      "execution_count": null,
      "outputs": [
        {
          "output_type": "execute_result",
          "data": {
            "text/plain": [
              "[(40.108909999999995, -83.09286),\n",
              " (39.86542, -84.0628),\n",
              " (39.10266, -84.52468),\n",
              " (39.10148, -84.52341),\n",
              " (41.062129999999996, -81.53784),\n",
              " (39.172393, -84.49279200000001),\n",
              " (39.06324, -84.03243),\n",
              " (39.06708, -84.05855),\n",
              " (39.77565, -84.18603),\n",
              " (41.37531, -81.82016999999999),\n",
              " (40.702247, -84.075887),\n",
              " (40.10931, -82.96849),\n",
              " (39.19288, -84.47723),\n",
              " (39.13877, -84.53394),\n",
              " (41.4739, -81.704233),\n",
              " (39.582242, -83.677814),\n",
              " (40.151785, -81.312635),\n",
              " (40.151747, -81.312682),\n",
              " (39.972409999999996, -82.84695),\n",
              " (39.9838, -82.85656999999999),\n",
              " (40.02664, -82.9944),\n",
              " (41.679361, -83.573037),\n",
              " (40.99613, -85.26613),\n",
              " (39.0381, -84.59243000000001),\n",
              " (40.03386, -82.99601),\n",
              " (39.85798, -84.28181),\n",
              " (39.15267, -84.5395),\n",
              " (39.307320000000004, -85.95982),\n",
              " (39.77572, -84.04815),\n",
              " (39.97643, -83.12306),\n",
              " (39.58595, -85.82518),\n",
              " (39.3638, -85.51659000000001),\n",
              " (39.45132, -85.62516),\n",
              " (39.75067, -84.14148),\n",
              " (39.2675, -81.49929),\n",
              " (39.86025, -85.96623000000001),\n",
              " (41.95677, -83.67214),\n",
              " (38.27401, -85.74844),\n",
              " (41.95677, -83.67214),\n",
              " (40.52225, -80.06666),\n",
              " (40.487814, -80.009439),\n",
              " (40.156298, -83.018431),\n",
              " (41.47461, -81.71181999999999),\n",
              " (41.0618, -81.54608),\n",
              " (40.45112, -85.15048),\n",
              " (40.35429, -85.14993),\n",
              " (39.75855, -85.13715),\n",
              " (39.74408, -85.13749),\n",
              " (39.965148, -83.020499),\n",
              " (40.72813, -84.78965),\n",
              " (39.85223, -85.25846999999999),\n",
              " (41.46747, -81.75909),\n",
              " (41.83193, -80.10143000000001),\n",
              " (39.744287, -84.204939),\n",
              " (39.71548, -84.22033),\n",
              " (39.7504, -84.20561),\n",
              " (41.72316, -84.96444),\n",
              " (40.04376, -82.99708000000001),\n",
              " (38.1781, -85.71946),\n",
              " (38.18577, -85.80678),\n",
              " (38.27191, -85.80838),\n",
              " (39.923905, -82.87008),\n",
              " (41.035565999999996, -81.569917),\n",
              " (39.9239, -83.68767),\n",
              " (41.851914, -80.175232),\n",
              " (39.93849, -82.84849),\n",
              " (38.969429999999996, -80.1096),\n",
              " (39.00248, -80.22624),\n",
              " (41.66805, -83.57063000000001),\n",
              " (41.48339, -81.66297),\n",
              " (41.50127, -81.4804),\n",
              " (39.789093, -82.989106),\n",
              " (41.67073, -81.24561),\n",
              " (41.708459999999995, -81.17636),\n",
              " (41.44246, -81.78485),\n",
              " (39.77128, -84.1923),\n",
              " (41.50499, -81.47417),\n",
              " (40.109653, -80.2029),\n",
              " (38.38852, -81.7687),\n",
              " (41.03572, -81.57809),\n",
              " (41.47487, -81.72095),\n",
              " (41.62845, -84.80559000000001),\n",
              " (41.62894, -84.80373),\n",
              " (41.16102, -81.78573),\n",
              " (41.628232000000004, -84.808858),\n",
              " (41.62986, -84.76619000000001),\n",
              " (39.74729, -84.21426),\n",
              " (41.42099, -81.69051999999999),\n",
              " (41.42318, -81.84674),\n",
              " (38.79691, -84.48273),\n",
              " (38.80878, -84.49638),\n",
              " (38.30155, -85.85499),\n",
              " (38.33667, -81.65623000000001),\n",
              " (38.33614, -81.65623000000001),\n",
              " (41.0961, -81.58593),\n",
              " (41.12155, -85.18715999999999),\n",
              " (38.829993, -80.667067),\n",
              " (40.05642, -83.03097),\n",
              " (41.37717, -81.5139),\n",
              " (39.173970000000004, -84.49031),\n",
              " (39.75513, -84.16614),\n",
              " (39.173970000000004, -84.49031),\n",
              " (41.12624, -81.65299),\n",
              " (38.33667, -81.65623000000001),\n",
              " (41.10389, -81.5),\n",
              " (39.16417, -84.45275),\n",
              " (40.11184, -83.00883),\n",
              " (38.31922, -85.75301999999999),\n",
              " (39.09881, -84.50801),\n",
              " (41.473859000000004, -81.708409),\n",
              " (41.039988, -81.565332),\n",
              " (41.73565, -84.99082),\n",
              " (39.26566, -84.43965),\n",
              " (41.469809999999995, -81.81104),\n",
              " (41.25666, -81.63157),\n",
              " (40.58919, -80.09885),\n",
              " (41.063559999999995, -81.49078),\n",
              " (41.06218, -81.50595),\n",
              " (39.17736, -84.4873),\n",
              " (38.33956, -81.60991999999999),\n",
              " (41.47889, -81.6934),\n",
              " (40.58919, -80.09885),\n",
              " (41.411190000000005, -81.64414000000001),\n",
              " (39.24907, -84.44561999999999),\n",
              " (39.28775, -84.40073000000001),\n",
              " (41.47379, -81.89631),\n",
              " (41.549409999999995, -81.60676),\n",
              " (39.03347, -84.603),\n",
              " (39.74903, -84.20106),\n",
              " (39.894729999999996, -83.044),\n",
              " (39.19641, -84.47331),\n",
              " (39.22461, -84.45364000000001),\n",
              " (39.153059999999996, -84.44283),\n",
              " (39.97262, -82.98368),\n",
              " (40.535447, -80.03596),\n",
              " (40.529455, -80.03506999999999),\n",
              " (41.49647, -81.67733),\n",
              " (41.0634, -81.49079),\n",
              " (39.74284, -84.20479),\n",
              " (41.46822, -81.9476),\n",
              " (41.92479, -83.36026),\n",
              " (41.184738, -80.432713),\n",
              " (40.27317, -85.5577),\n",
              " (39.98264, -85.14301999999999),\n",
              " (40.27317, -85.5577),\n",
              " (40.42667, -85.54968000000001),\n",
              " (39.97527, -85.14018),\n",
              " (39.098890000000004, -84.52118),\n",
              " (38.88012, -84.62527),\n",
              " (38.792559999999995, -84.60423),\n",
              " (39.74284, -84.20479),\n",
              " (40.484221999999995, -80.13755400000001),\n",
              " (41.20104, -80.06859),\n",
              " (39.055279999999996, -84.39072),\n",
              " (41.623325, -83.692226),\n",
              " (40.53024, -80.00957),\n",
              " (40.53024, -80.00957),\n",
              " (40.06527, -82.99591),\n",
              " (40.43954, -80.00971),\n",
              " (41.422004, -81.730092),\n",
              " (39.3638, -85.51659000000001),\n",
              " (39.82083, -85.7749),\n",
              " (40.0366, -85.72561999999999),\n",
              " (39.855691, -84.29079200000001),\n",
              " (40.049152, -85.682047),\n",
              " (39.83939, -85.55752),\n",
              " (40.13386, -80.00666),\n",
              " (40.43954, -80.00971),\n",
              " (40.13386, -80.00666),\n",
              " (40.13386, -80.00666),\n",
              " (39.978590000000004, -82.9763),\n",
              " (39.95459, -83.04255),\n",
              " (39.68291, -85.97372),\n",
              " (38.49304, -85.77156),\n",
              " (38.33428, -85.82177),\n",
              " (39.99921, -83.02875),\n",
              " (38.53844, -85.77702),\n",
              " (38.1781, -85.71946),\n",
              " (39.87433, -82.99882),\n",
              " (41.39546, -85.32855),\n",
              " (41.394690000000004, -85.28893000000001),\n",
              " (41.90473, -83.36986),\n",
              " (40.771370000000005, -84.62203000000001),\n",
              " (40.80059, -84.61374),\n",
              " (39.87433, -82.99882),\n",
              " (40.78593, -84.61787),\n",
              " (40.80059, -84.61374),\n",
              " (41.67487, -83.57266),\n",
              " (41.47376, -81.86113),\n",
              " (38.33465, -85.75389),\n",
              " (39.14014, -84.53495),\n",
              " (41.801429999999996, -85.34888000000001),\n",
              " (41.81755, -85.32291),\n",
              " (41.35761, -81.81988),\n",
              " (39.343920000000004, -84.39043000000001),\n",
              " (39.816154, -83.18010500000001),\n",
              " (38.824929, -85.47449499999999),\n",
              " (38.82415, -85.63794),\n",
              " (40.593244, -85.150017),\n",
              " (40.600487, -85.150502),\n",
              " (41.19362, -80.2374),\n",
              " (40.55267, -85.14974000000001),\n",
              " (40.567440000000005, -85.14993),\n",
              " (40.14212, -81.55153),\n",
              " (39.94397, -82.41127),\n",
              " (39.96893, -83.11922),\n",
              " (40.6126, -80.09494000000001),\n",
              " (40.11184, -83.00883),\n",
              " (41.06347, -81.50372),\n",
              " (39.972931, -85.965783),\n",
              " (39.95459, -83.04255),\n",
              " (40.11184, -83.00883),\n",
              " (39.972409999999996, -82.84695),\n",
              " (39.9912, -85.9188),\n",
              " (41.34965, -81.51146),\n",
              " (41.11987, -80.69004),\n",
              " (41.11851, -80.69242),\n",
              " (40.05642, -83.03097),\n",
              " (41.123412, -80.68202600000001),\n",
              " (38.117487, -85.760397),\n",
              " (41.441340000000004, -81.65055),\n",
              " (38.61531, -80.76034),\n",
              " (41.124052, -80.677589),\n",
              " (39.95085, -82.94428),\n",
              " (41.06257, -81.52228000000001),\n",
              " (40.112120000000004, -83.03905999999999),\n",
              " (39.887033, -83.043909),\n",
              " (40.04916, -83.03336),\n",
              " (41.129059999999996, -85.1612),\n",
              " (41.17798, -85.10323000000001),\n",
              " (38.08783, -83.90263),\n",
              " (41.63316, -83.54203000000001),\n",
              " (39.149639, -84.539381),\n",
              " (40.9605, -85.3528),\n",
              " (40.96051, -85.34522),\n",
              " (41.08204, -80.64846999999999),\n",
              " (41.617909999999995, -83.54106999999999),\n",
              " (38.41592, -82.3465),\n",
              " (41.675709999999995, -83.69385),\n",
              " (39.08272, -84.52264),\n",
              " (39.280947, -80.278075),\n",
              " (38.36387, -81.73867),\n",
              " (40.0187, -82.90465999999999),\n",
              " (41.53757, -81.64083000000001),\n",
              " (41.16522, -81.47454),\n",
              " (39.52352, -82.02360999999999),\n",
              " (39.517216, -82.025802),\n",
              " (40.322818, -83.071034),\n",
              " (41.73565, -84.99082),\n",
              " (39.14648, -84.45455),\n",
              " (39.821220000000004, -85.76482),\n",
              " (41.11889, -81.65406999999999),\n",
              " (40.121557, -83.151457),\n",
              " (40.110170000000004, -83.15876999999999),\n",
              " (41.57777, -81.54987),\n",
              " (40.121557, -83.151457),\n",
              " (40.110170000000004, -83.15876999999999),\n",
              " (41.04592, -81.69463),\n",
              " (41.42099, -81.69051999999999),\n",
              " (39.27486, -84.346),\n",
              " (39.28266, -84.56742),\n",
              " (39.9467, -82.22232),\n",
              " (39.173970000000004, -84.49031),\n",
              " (39.17736, -84.4873),\n",
              " (39.9467, -82.22232),\n",
              " (39.9467, -82.22232),\n",
              " (41.685179999999995, -83.5678),\n",
              " (41.66572, -83.5652),\n",
              " (39.27125, -84.35176),\n",
              " (41.47395, -81.69931),\n",
              " (39.98505, -80.74006),\n",
              " (39.95813, -80.76219),\n",
              " (41.56544, -81.5835),\n",
              " (38.32587, -83.11389),\n",
              " (38.25869, -85.7622),\n",
              " (38.29322, -85.654625),\n",
              " (39.78609, -83.24606999999999),\n",
              " (41.53968, -81.62795),\n",
              " (39.08927, -84.5227),\n",
              " (38.25922, -85.76632),\n",
              " (41.552640000000004, -81.60032),\n",
              " (39.02187, -84.50492),\n",
              " (41.06755, -81.57421),\n",
              " (40.49223, -80.01029),\n",
              " (41.48836, -81.66471),\n",
              " (39.95085, -82.94428),\n",
              " (41.420629999999996, -81.80859),\n",
              " (41.06755, -81.57421),\n",
              " (40.82949, -81.39732),\n",
              " (41.400909999999996, -81.81724),\n",
              " (41.13355, -85.13584),\n",
              " (41.14226, -85.13611),\n",
              " (38.870385999999996, -84.624429),\n",
              " (41.47974, -81.6667),\n",
              " (40.30095, -80.16651999999999),\n",
              " (39.115429999999996, -84.50003000000001),\n",
              " (41.1419, -81.47694),\n",
              " (39.14917, -84.44711),\n",
              " (39.819790000000005, -84.18908),\n",
              " (39.84509, -84.1899),\n",
              " (41.47461, -81.71181999999999),\n",
              " (39.17304, -84.47589),\n",
              " (39.1021, -84.49754),\n",
              " (41.49873, -81.67260999999999),\n",
              " (39.12627, -84.53509),\n",
              " (41.473946000000005, -81.699011),\n",
              " (39.9745, -83.09654),\n",
              " (39.85911, -84.2808),\n",
              " (39.24943, -84.36541),\n",
              " (38.31179, -85.58773000000001),\n",
              " (39.27486, -84.346),\n",
              " (39.29287, -84.31981),\n",
              " (39.15267, -84.5395),\n",
              " (41.4675, -81.49014),\n",
              " (39.26661, -84.35605),\n",
              " (39.27125, -84.35176),\n",
              " (38.20674, -85.74846),\n",
              " (40.138040000000004, -82.97112),\n",
              " (41.47965, -81.66758),\n",
              " (39.08887, -84.52271),\n",
              " (41.6882, -83.64064),\n",
              " (40.06527, -82.99591),\n",
              " (39.865359999999995, -84.05238),\n",
              " (38.420223, -82.293065),\n",
              " (41.474140000000006, -81.69893),\n",
              " (41.47542, -81.68721),\n",
              " (40.07297, -83.1347),\n",
              " (40.056090000000005, -80.679211),\n",
              " (38.19105, -85.71902),\n",
              " (38.254540000000006, -85.71969),\n",
              " (39.171694, -84.494399),\n",
              " (41.06239, -81.52229),\n",
              " (39.259254, -84.440978),\n",
              " (39.905178, -82.895471),\n",
              " (40.0988, -83.13331),\n",
              " (41.339909999999996, -81.81739),\n",
              " (40.0999, -82.92089),\n",
              " (39.4728, -80.11963),\n",
              " (41.46631, -81.77065999999999),\n",
              " (38.34109, -81.70017),\n",
              " (41.160072, -85.232647),\n",
              " (41.163626, -85.24482900000001),\n",
              " (39.14014, -84.53495),\n",
              " (40.945370000000004, -81.15473),\n",
              " (41.68591, -83.911307),\n",
              " (41.704522999999995, -83.9136),\n",
              " (40.945772, -81.17219399999999),\n",
              " (38.82445, -82.98299),\n",
              " (38.84111, -82.98432),\n",
              " (39.00079, -84.42043000000001),\n",
              " (39.96071, -85.35383),\n",
              " (39.2675, -81.49929),\n",
              " (40.27317, -85.5577),\n",
              " (40.42667, -85.54968000000001),\n",
              " (38.130782, -81.388878),\n",
              " (38.545195, -85.778613),\n",
              " (38.362427000000004, -81.714434),\n",
              " (38.39115, -81.58664),\n",
              " (40.08978, -82.98725999999999),\n",
              " (40.0122, -82.99188000000001),\n",
              " (41.68918, -83.53681999999999),\n",
              " (39.3781, -84.365),\n",
              " (39.11919, -84.53539),\n",
              " (39.050290000000004, -83.77673),\n",
              " (39.04827, -83.77199),\n",
              " (40.0717, -82.90821),\n",
              " (39.09655, -84.48312),\n",
              " (40.43077, -80.02638),\n",
              " (41.443708, -85.19285),\n",
              " (41.438119, -85.15969399999999),\n",
              " (41.46747, -81.75909),\n",
              " (39.044435, -84.465864),\n",
              " (39.22461, -84.45364000000001),\n",
              " (41.104217, -81.499987),\n",
              " (41.1003, -81.4999),\n",
              " (39.1021, -84.49754),\n",
              " (41.46375, -81.69353000000001),\n",
              " (41.52134, -83.45642),\n",
              " (41.525490000000005, -83.46344),\n",
              " (41.43166, -81.68160999999999),\n",
              " (38.22363, -85.50532),\n",
              " (40.854659999999996, -81.41646999999999),\n",
              " (38.22272, -85.50111),\n",
              " (39.12424, -84.53501),\n",
              " (39.09858, -84.51974),\n",
              " (39.63551, -84.19519),\n",
              " (40.39715, -80.10368000000001),\n",
              " (41.56709, -81.57816),\n",
              " (41.18225, -84.94275999999999),\n",
              " (41.18225, -84.94275999999999),\n",
              " (39.10148, -84.52341),\n",
              " (39.10266, -84.52468),\n",
              " (41.55245, -83.60061999999999),\n",
              " (38.52006, -81.35221),\n",
              " (41.3513, -83.62276),\n",
              " (39.25015, -81.30566),\n",
              " (41.345031, -82.285379),\n",
              " (41.351335, -82.26144599999999),\n",
              " (38.384570000000004, -81.804429),\n",
              " (40.415279999999996, -80.01234000000001),\n",
              " (40.03598, -83.12479),\n",
              " (41.03669, -81.50492),\n",
              " (41.68971, -83.53045999999999),\n",
              " (39.587784, -83.723939),\n",
              " (39.626236999999996, -83.73105),\n",
              " (41.06243, -81.49904000000001),\n",
              " (41.06218, -81.50595),\n",
              " (39.97262, -82.98368),\n",
              " (39.93658, -83.00941999999999),\n",
              " (41.208579, -82.807829),\n",
              " (41.4051, -81.8184),\n",
              " (39.29035, -84.39078),\n",
              " (39.90524, -82.89541),\n",
              " (40.04376, -82.99708000000001),\n",
              " (39.98793, -82.98568),\n",
              " (41.874915, -85.409527),\n",
              " (41.890234, -85.409642),\n",
              " (39.9335, -82.78939),\n",
              " (40.04916, -83.03336),\n",
              " (39.99493, -82.93332),\n",
              " (39.837270000000004, -83.09326999999999),\n",
              " (40.989540000000005, -81.49372),\n",
              " (38.53844, -85.77702),\n",
              " (41.10389, -81.5),\n",
              " (38.577894, -85.77896),\n",
              " (41.42099, -81.69051999999999),\n",
              " (38.580546000000005, -85.77866),\n",
              " (39.833935, -84.061832),\n",
              " (38.30344, -85.88893),\n",
              " (39.93654, -83.40048),\n",
              " (39.95612, -83.37499),\n",
              " (39.177659999999996, -84.39780999999999),\n",
              " (40.02155, -83.0354),\n",
              " (39.97518, -85.63374),\n",
              " (39.94576, -85.63454),\n",
              " (40.277440000000006, -85.72518000000001),\n",
              " (40.2777, -85.67459000000001),\n",
              " (39.17304, -84.47589),\n",
              " (41.686479999999996, -83.5669),\n",
              " (41.66267, -85.03312),\n",
              " (41.68976, -83.666),\n",
              " (39.94594, -82.9432),\n",
              " (41.4758, -81.66036),\n",
              " (41.628312, -84.812135),\n",
              " (39.967240000000004, -83.02459),\n",
              " (41.964290000000005, -83.35018000000001),\n",
              " (41.282993, -83.638931),\n",
              " (41.63126, -83.48336),\n",
              " (41.427584, -85.8495),\n",
              " (41.471378, -85.839527),\n",
              " (41.46747, -81.75909),\n",
              " (39.183640000000004, -84.48373000000001),\n",
              " (41.94495, -80.40234),\n",
              " (39.53078, -84.310264),\n",
              " (41.438774, -81.80341999999999),\n",
              " (39.9838, -82.85656999999999),\n",
              " (40.444134000000005, -80.028261),\n",
              " (39.977270000000004, -83.15445),\n",
              " (39.9745, -83.09654),\n",
              " (39.97865, -83.11698),\n",
              " (39.97327, -83.12002),\n",
              " (39.22571, -84.36832),\n",
              " (39.986342, -83.118881),\n",
              " (39.736290000000004, -84.20489),\n",
              " (41.4051, -81.8184),\n",
              " (41.41101, -81.66634),\n",
              " (39.244640000000004, -84.44835),\n",
              " (40.112120000000004, -83.03905999999999),\n",
              " (40.30095, -80.16651999999999),\n",
              " (40.29739, -80.16798),\n",
              " (41.49243, -81.67554),\n",
              " (40.1827, -80.26148),\n",
              " (39.95459, -83.04255),\n",
              " (39.97527, -85.14018),\n",
              " (39.98511, -85.14406),\n",
              " (38.29514, -85.75655),\n",
              " (39.93654, -83.40048),\n",
              " (39.94143, -83.39224),\n",
              " (39.115429999999996, -84.50003000000001),\n",
              " (41.030684, -81.885739),\n",
              " (41.43166, -81.68160999999999),\n",
              " (40.6664, -80.227514),\n",
              " (40.67137, -80.22581),\n",
              " (41.305199, -81.438626),\n",
              " (40.354252, -85.843032),\n",
              " (40.402251, -85.842969),\n",
              " (41.267520000000005, -85.85673),\n",
              " (39.97307, -82.98405),\n",
              " (39.9672, -81.28699999999999),\n",
              " (39.96392, -81.27197),\n",
              " (41.526309999999995, -83.62123000000001),\n",
              " (39.93292, -82.83025),\n",
              " (39.08272, -84.52264),\n",
              " (39.8552, -84.32502),\n",
              " (41.65404, -85.70526),\n",
              " (41.654579999999996, -85.58601),\n",
              " (41.39465, -81.65326),\n",
              " (41.06211, -81.53053),\n",
              " (41.09598, -81.49976),\n",
              " (41.85222, -85.67843),\n",
              " (38.148808, -80.929665),\n",
              " (41.52447, -85.57791),\n",
              " (41.5105, -85.57781),\n",
              " (39.90524, -82.89541),\n",
              " (41.23598, -81.49325999999999),\n",
              " (38.70101, -80.66483000000001),\n",
              " (39.22498, -84.38094),\n",
              " (40.776022999999995, -80.12718100000001),\n",
              " (38.86027, -80.65729),\n",
              " (39.88203, -83.04748000000001),\n",
              " (39.892534000000005, -83.038786),\n",
              " (39.89698, -83.03428000000001),\n",
              " (41.67439, -83.693727),\n",
              " (41.12999, -85.15503000000001),\n",
              " (39.098890000000004, -84.52118),\n",
              " (41.526309999999995, -83.62123000000001),\n",
              " (39.088552, -84.522724),\n",
              " (39.954229999999995, -82.98879000000001),\n",
              " (39.21018, -84.46345),\n",
              " (39.95369, -82.96403000000001),\n",
              " (40.40934, -80.19247),\n",
              " (40.44126, -80.19314),\n",
              " (39.161609999999996, -84.51375),\n",
              " (39.161609999999996, -84.51375),\n",
              " (39.15141, -84.54061),\n",
              " (39.75855, -85.13715),\n",
              " (41.675709999999995, -83.69385),\n",
              " (41.675709999999995, -83.69385),\n",
              " (39.28805, -84.37462),\n",
              " (41.53618, -83.6176),\n",
              " (39.07202, -84.51907),\n",
              " (38.259133, -85.752672),\n",
              " (40.44425, -80.02821),\n",
              " (40.44278, -80.02468),\n",
              " (38.30155, -85.85499),\n",
              " (40.35405, -80.13756),\n",
              " (40.354490000000006, -80.13835999999999),\n",
              " (38.30344, -85.88893),\n",
              " (41.08789, -83.66011),\n",
              " (41.02454, -80.92163000000001),\n",
              " (41.02413, -80.90579),\n",
              " (39.08168, -84.7069),\n",
              " (38.185390000000005, -85.81793),\n",
              " (39.27734, -84.86438000000001),\n",
              " (39.16437, -84.43731),\n",
              " (39.748585, -84.226084),\n",
              " (39.4728, -80.11963),\n",
              " (41.187807, -80.149019),\n",
              " (41.19242, -80.15860500000001),\n",
              " (38.233483, -85.62671800000001),\n",
              " (38.33954, -81.609895),\n",
              " (40.07297, -83.1347),\n",
              " (40.08402, -83.13046),\n",
              " (38.346309999999995, -83.40449),\n",
              " (38.35382, -83.40553),\n",
              " (39.04416, -84.46656),\n",
              " (38.41807, -81.54525),\n",
              " (38.309401, -85.847643),\n",
              " (41.64679, -83.54913),\n",
              " (38.198747999999995, -85.733953),\n",
              " (39.97401, -82.99355),\n",
              " (39.173970000000004, -84.49031),\n",
              " (41.68843, -83.56258000000001),\n",
              " (41.67904, -83.5732),\n",
              " (39.25249, -84.36493),\n",
              " (38.310736, -85.590395),\n",
              " (41.469409999999996, -81.80535),\n",
              " (38.20674, -85.74846),\n",
              " (39.226317, -84.37107900000001),\n",
              " (41.68721, -83.55579),\n",
              " (40.09775, -84.22926),\n",
              " (41.42147, -81.70682),\n",
              " (38.294146000000005, -85.756847),\n",
              " (39.17304, -84.47589),\n",
              " (38.15982, -84.67308),\n",
              " (39.11675, -84.53355),\n",
              " (39.24943, -84.36541),\n",
              " (41.06146, -81.5049),\n",
              " (39.183640000000004, -84.48373000000001),\n",
              " (41.06228, -81.50986999999999),\n",
              " (39.98793, -82.98568),\n",
              " (39.95971, -83.04811),\n",
              " (39.1479, -84.53929000000001),\n",
              " (39.89555, -83.84997),\n",
              " (39.992259999999995, -82.98517),\n",
              " (39.40983, -82.97548),\n",
              " (40.6126, -80.09494000000001),\n",
              " (39.224790000000006, -84.27783000000001),\n",
              " (39.11675, -84.53355),\n",
              " (41.43869, -81.80554000000001),\n",
              " (40.016819, -82.90411),\n",
              " (39.097570000000005, -84.51666),\n",
              " (41.062470000000005, -81.52405),\n",
              " (39.13219, -84.49464),\n",
              " (39.097654, -84.516019),\n",
              " (41.34965, -81.51146),\n",
              " (41.37717, -81.5139),\n",
              " (40.125890000000005, -80.13661),\n",
              " (40.131890000000006, -80.132407),\n",
              " (40.00507, -83.1186),\n",
              " (39.437940000000005, -82.53893000000001),\n",
              " (39.12627, -84.53509),\n",
              " (38.07759, -84.45711999999999),\n",
              " (40.090790000000005, -82.90783),\n",
              " (39.64731, -85.91696999999999),\n",
              " (39.08927, -84.5227),\n",
              " (38.26109, -85.73695),\n",
              " (38.19785, -85.70445),\n",
              " (39.056540000000005, -84.54283000000001),\n",
              " (41.42413, -81.64519),\n",
              " (39.28638, -84.42706),\n",
              " (41.374990000000004, -83.61635),\n",
              " (41.06228, -81.50986999999999),\n",
              " (41.06146, -81.5049),\n",
              " (41.53907, -81.63354),\n",
              " (40.04916, -83.03336),\n",
              " (41.13613, -81.72196),\n",
              " (39.09891, -84.49181999999999),\n",
              " (39.96268, -82.84305),\n",
              " (39.173970000000004, -84.49031),\n",
              " (39.169109999999996, -84.42104),\n",
              " (39.003821, -80.391285),\n",
              " (39.17736, -84.4873),\n",
              " (39.143159999999995, -84.47069),\n",
              " (39.2696, -84.34894),\n",
              " (40.521732, -81.64755),\n",
              " (40.513360999999996, -81.651599),\n",
              " (41.526309999999995, -83.62123000000001),\n",
              " (38.992607, -80.195782),\n",
              " (38.839151, -82.152877),\n",
              " (40.27675, -85.49916),\n",
              " (40.521679999999996, -80.13163),\n",
              " (39.837109999999996, -84.54392),\n",
              " (39.02296, -84.51784),\n",
              " (38.455787, -81.88205),\n",
              " (39.02397, -84.48039),\n",
              " (38.22433, -85.751),\n",
              " (39.05973, -84.42438),\n",
              " (39.27734, -84.86438000000001),\n",
              " (41.47965, -81.66758),\n",
              " (39.02257, -84.48631),\n",
              " (40.44846, -80.00755),\n",
              " (39.09891, -84.28556999999999),\n",
              " (41.06026, -81.55485999999999),\n",
              " (41.802758000000004, -83.684687),\n",
              " (38.0791, -83.94591),\n",
              " (38.01846, -84.15159),\n",
              " (38.30344, -85.88893),\n",
              " (38.84109, -85.81618),\n",
              " (41.14181, -80.72015999999999),\n",
              " (39.14648, -84.45455),\n",
              " (41.042629999999996, -81.50543),\n",
              " (38.21089, -85.82606),\n",
              " (39.75067, -84.14148),\n",
              " (38.28581, -85.50792),\n",
              " (39.152733000000005, -84.541403),\n",
              " (38.23585, -85.658849),\n",
              " (38.202490000000004, -85.68697),\n",
              " (40.534909999999996, -83.10678),\n",
              " (40.52035, -83.10043),\n",
              " (39.12965, -84.49555),\n",
              " (38.22811, -85.7514),\n",
              " (40.41233, -80.07815),\n",
              " (39.7504, -84.20561),\n",
              " (39.08272, -84.52264),\n",
              " (39.781457, -85.839651),\n",
              " (39.781457, -85.839651),\n",
              " (41.060759999999995, -81.45923),\n",
              " (39.688148, -83.88431),\n",
              " (39.693164, -83.882745),\n",
              " (39.9488, -83.02845),\n",
              " (41.115840000000006, -81.61428000000001),\n",
              " (39.797697, -84.189677),\n",
              " (39.20326, -85.95763000000001),\n",
              " (39.244640000000004, -84.44835),\n",
              " (39.73733, -84.25733000000001),\n",
              " (39.969853, -85.972976),\n",
              " (41.11889, -81.65406999999999),\n",
              " (39.13219, -84.49464),\n",
              " (41.458, -83.62201999999999),\n",
              " (40.09268, -83.03726),\n",
              " (40.066965, -83.289888),\n",
              " (40.045608, -83.29660799999999),\n",
              " (39.97307, -82.98405),\n",
              " (39.982479999999995, -85.123922),\n",
              " (39.981095, -85.11027299999999),\n",
              " (40.430209999999995, -80.02554),\n",
              " (40.432190000000006, -80.02781999999999),\n",
              " (39.976566999999996, -83.128639),\n",
              " (41.256658, -85.363439),\n",
              " (41.374990000000004, -83.61635),\n",
              " (41.252653, -85.347328),\n",
              " (39.93658, -83.00941999999999),\n",
              " (39.14014, -84.53495),\n",
              " (40.153014, -82.970316),\n",
              " (39.90524, -82.89541),\n",
              " (39.13219, -84.49464),\n",
              " (40.42581, -80.4294),\n",
              " (41.08789, -83.65977),\n",
              " (39.9488, -83.02845),\n",
              " (41.47585, -81.87980999999999),\n",
              " (39.1079, -84.50284),\n",
              " (38.340803, -81.680728),\n",
              " (40.964729999999996, -85.28862),\n",
              " (38.441, -82.12679),\n",
              " (38.4413, -82.01529000000001),\n",
              " (38.441, -82.12679),\n",
              " (38.18977, -83.48379),\n",
              " (41.194131, -80.201982),\n",
              " (40.09601, -83.13626),\n",
              " (41.23632, -83.65401999999999),\n",
              " (38.1737, -84.81473000000001),\n",
              " (38.19016, -85.7616),\n",
              " (39.25249, -84.36493),\n",
              " (39.137217, -84.04718299999999),\n",
              " (39.141453999999996, -84.016543),\n",
              " (38.344424, -81.613662),\n",
              " (41.931129999999996, -83.35857),\n",
              " (40.89268, -84.61808),\n",
              " (40.46013, -80.19126),\n",
              " (41.119341999999996, -80.698025),\n",
              " (41.117872, -80.693898),\n",
              " (39.15267, -84.5395),\n",
              " (38.27362, -85.80906),\n",
              " (41.458, -83.62201999999999),\n",
              " (39.35655, -84.26419),\n",
              " (38.4062, -81.54054000000001),\n",
              " (41.025259000000005, -81.5042),\n",
              " (38.27362, -85.80906),\n",
              " (38.119690000000006, -85.77235),\n",
              " (38.275406, -85.81314300000001),\n",
              " (38.275079999999996, -85.81517099999999),\n",
              " (41.397690000000004, -81.939),\n",
              " (39.46513, -80.13559000000001),\n",
              " (38.217994, -81.426024),\n",
              " (38.215401, -81.42437199999999),\n",
              " (39.042851, -84.612615),\n",
              " (38.26109, -85.73695),\n",
              " (39.056540000000005, -84.54283000000001),\n",
              " (41.840758, -84.361657),\n",
              " (41.841122999999996, -84.361652),\n",
              " (41.63316, -83.54203000000001),\n",
              " (40.02874, -81.04368000000001),\n",
              " (41.43891, -81.80258),\n",
              " (41.0811, -81.50348000000001),\n",
              " (38.35575, -81.65420999999999),\n",
              " (39.94585, -82.94293),\n",
              " (41.69017, -83.5181),\n",
              " (40.112120000000004, -83.03905999999999),\n",
              " (41.502590000000005, -81.66974),\n",
              " (39.989994, -83.02512),\n",
              " (41.480458, -81.692932),\n",
              " (39.22461, -84.45364000000001),\n",
              " (40.04376, -82.99708000000001),\n",
              " (39.936209999999996, -82.88318000000001),\n",
              " (39.167788, -82.524172),\n",
              " (39.20655, -82.48212),\n",
              " (41.365759999999995, -81.51602),\n",
              " (39.977321999999994, -81.183327),\n",
              " (39.961933, -81.175436),\n",
              " (39.68292, -84.23004),\n",
              " (40.02664, -82.9944),\n",
              " (38.583372, -81.994824),\n",
              " (38.581196000000006, -82.004356),\n",
              " (40.07297, -83.1347),\n",
              " (41.586890000000004, -83.56234),\n",
              " (38.31714, -85.57677),\n",
              " (40.07297, -83.1347),\n",
              " (39.07202, -84.51907),\n",
              " (41.46747, -81.75909),\n",
              " (40.82645, -81.39675),\n",
              " (40.82645, -81.39675),\n",
              " (39.056540000000005, -84.54283000000001),\n",
              " (39.06272, -84.65728),\n",
              " (39.03368, -84.59527),\n",
              " (40.021209999999996, -82.99503),\n",
              " (39.866695, -84.9305),\n",
              " (39.056540000000005, -84.54283000000001),\n",
              " (39.03232, -84.59137),\n",
              " (41.04058, -81.61256999999999),\n",
              " (40.98884, -83.64875),\n",
              " (39.956579999999995, -83.37075),\n",
              " (39.89857, -83.72139),\n",
              " (39.896448, -83.72312099999999),\n",
              " (41.47965, -81.66758),\n",
              " (39.71548, -84.22033),\n",
              " (40.0389, -85.71828000000001),\n",
              " (41.17516, -81.23116999999999),\n",
              " (41.151070000000004, -81.21375),\n",
              " (40.0389, -85.71828000000001),\n",
              " (39.993359999999996, -85.83861999999999),\n",
              " (40.46013, -80.19126),\n",
              " (41.68976, -83.666),\n",
              " (39.973259999999996, -83.00690999999999),\n",
              " (39.48572, -83.94191),\n",
              " (39.83355, -85.99635),\n",
              " (39.83355, -85.99635),\n",
              " (39.79721, -85.97153),\n",
              " (39.79721, -85.97153),\n",
              " (39.98056, -83.11924),\n",
              " (41.458, -83.62243000000001),\n",
              " (39.905352, -82.995352),\n",
              " (39.99921, -83.02875),\n",
              " (40.869049, -81.95845600000001),\n",
              " (41.419021, -81.519515),\n",
              " (39.343920000000004, -84.39043000000001),\n",
              " (39.9454, -82.60271),\n",
              " (38.353957, -81.73513100000001),\n",
              " (38.354504999999996, -81.731585),\n",
              " (41.501622999999995, -81.479519),\n",
              " (39.86477, -83.99871),\n",
              " (38.737813, -85.250959),\n",
              " (40.00507, -83.1186),\n",
              " (39.919779999999996, -82.93149),\n",
              " (39.097570000000005, -84.51666),\n",
              " (41.07995, -81.50389),\n",
              " (41.63316, -83.54203000000001),\n",
              " (39.82529, -83.03175999999999),\n",
              " (39.83209, -82.99884),\n",
              " (39.83208, -83.000447),\n",
              " (39.83214, -82.99838000000001),\n",
              " (38.416631, -84.861968),\n",
              " (40.55549, -80.11634000000001),\n",
              " (39.17736, -84.4873),\n",
              " (41.484589, -81.691778),\n",
              " (41.227340000000005, -81.62705),\n",
              " (39.04695, -84.57498000000001),\n",
              " (39.25595, -84.44287),\n",
              " (39.8888, -82.88181999999999),\n",
              " (39.74729, -84.21426),\n",
              " (39.97415, -83.09486),\n",
              " (39.08272, -84.52264),\n",
              " (39.949808000000004, -83.02289300000001),\n",
              " (39.951409999999996, -83.0137),\n",
              " (38.7056, -80.66107),\n",
              " (39.1479, -84.53929000000001),\n",
              " (41.7573, -83.48075),\n",
              " (39.98946, -85.9299),\n",
              " (39.98894, -83.025012),\n",
              " (41.110996, -80.82384),\n",
              " (41.686859000000005, -83.554005),\n",
              " (41.53907, -81.63354),\n",
              " (39.300562, -84.518869),\n",
              " (41.202543, -85.7011),\n",
              " (39.19288, -84.47723),\n",
              " (40.07297, -83.1347),\n",
              " (39.140991, -84.483618),\n",
              " (41.121598999999996, -80.789503),\n",
              " (41.31438, -81.51286),\n",
              " (39.85922, -84.27762),\n",
              " (40.42005, -80.03531),\n",
              " (39.9589, -82.98257),\n",
              " (39.89087, -83.85382),\n",
              " (39.89862, -83.85353),\n",
              " (40.03938, -83.050567),\n",
              " (41.41218, -81.61371),\n",
              " (38.306159, -80.833765),\n",
              " (40.104, -82.94154),\n",
              " (38.24178, -85.62212),\n",
              " (41.552640000000004, -81.60032),\n",
              " (39.992259999999995, -82.98517),\n",
              " (38.315529999999995, -85.58313000000001),\n",
              " (38.400331, -85.371049),\n",
              " (38.312509999999996, -85.57741999999999),\n",
              " (38.400331, -85.371049),\n",
              " (39.889379999999996, -82.88316),\n",
              " (38.15873, -80.90504),\n",
              " (38.155136999999996, -80.912154),\n",
              " (39.9745, -83.09654),\n",
              " (41.47487, -81.72095),\n",
              " (39.26931, -84.4307),\n",
              " (38.2201, -85.82223),\n",
              " (41.48339, -81.66297),\n",
              " (39.161609999999996, -84.51375),\n",
              " (41.42734, -82.08322),\n",
              " (41.526309999999995, -83.62123000000001),\n",
              " (39.917320000000004, -83.012335),\n",
              " (41.608670000000004, -81.48891),\n",
              " (41.20554, -85.17116),\n",
              " (41.1787, -85.16594),\n",
              " (41.507189000000004, -81.67124),\n",
              " (39.97415, -83.09486),\n",
              " (39.97043, -83.01961999999999),\n",
              " (39.93849, -82.84849),\n",
              " (39.89698, -83.03428000000001),\n",
              " (39.71452, -84.22281),\n",
              " (40.11468, -83.01644),\n",
              " (38.34244, -85.80447),\n",
              " (41.47036, -81.65984),\n",
              " (38.30056, -85.84703),\n",
              " (39.169389, -84.50389),\n",
              " (39.936838, -83.042661),\n",
              " (39.937567, -83.04209200000001),\n",
              " (39.9425, -82.53536),\n",
              " (39.27125, -84.35176),\n",
              " (41.398877, -83.616108),\n",
              " (39.24422, -84.30224),\n",
              " (40.412997, -80.07973299999999),\n",
              " (39.021521, -84.50784300000001),\n",
              " (41.123670000000004, -80.76913),\n",
              " (41.073876, -83.66091999999999),\n",
              " (39.01992, -83.65886),\n",
              " (38.97914, -83.65465),\n",
              " (40.099270000000004, -83.15793000000001),\n",
              " (39.93658, -83.00941999999999),\n",
              " (39.115429999999996, -84.50003000000001),\n",
              " (41.474552, -81.711522),\n",
              " (39.78517, -84.18457),\n",
              " (41.47974, -81.6667),\n",
              " (38.277190000000004, -85.69383),\n",
              " (38.495124, -85.771118),\n",
              " (39.73277, -84.20522),\n",
              " (41.458, -83.62243000000001),\n",
              " (39.045381, -84.462312),\n",
              " (41.526, -81.65974),\n",
              " (40.78725, -81.38592),\n",
              " (38.3657, -85.75495),\n",
              " (39.02575, -84.61272),\n",
              " (40.90923, -81.79765),\n",
              " (40.91649, -81.78869),\n",
              " (39.10051, -80.39199),\n",
              " (40.082643, -82.91367199999999),\n",
              " (41.47162, -81.90626),\n",
              " (40.08155, -82.91859000000001),\n",
              " (40.07976, -82.92689),\n",
              " (38.27511, -85.81238),\n",
              " (39.02908, -84.53565),\n",
              " (39.04455, -84.57798000000001),\n",
              " (39.830259999999996, -81.45434),\n",
              " (39.81436, -81.46898),\n",
              " (38.41336, -82.3483),\n",
              " (38.20674, -85.74846),\n",
              " (38.10937, -85.70123000000001),\n",
              " (40.26758, -82.92745),\n",
              " (38.22285, -85.57436),\n",
              " (40.43827, -80.00527),\n",
              " (39.08272, -84.52264),\n",
              " (40.046599, -85.99359),\n",
              " (41.67904, -83.5732),\n",
              " (40.52225, -80.06666),\n",
              " (41.041763, -81.3932),\n",
              " (39.02541, -85.88784),\n",
              " (39.887572, -84.047499),\n",
              " (39.90803, -84.03969000000001),\n",
              " (39.8181, -81.45925),\n",
              " (39.8181, -81.45925),\n",
              " (39.8181, -81.45925),\n",
              " (39.81447, -81.46769),\n",
              " (41.47307, -80.36586),\n",
              " (41.460561, -80.366376),\n",
              " (39.75022, -84.19668),\n",
              " (39.161609999999996, -84.51375),\n",
              " (39.82329, -84.166569),\n",
              " (39.818751, -84.167637),\n",
              " (39.15267, -84.5395),\n",
              " (40.480209, -85.719799),\n",
              " (39.026759999999996, -84.61421),\n",
              " (40.480209, -85.719799),\n",
              " (40.480129999999996, -85.72942900000001),\n",
              " (38.24863, -85.70467),\n",
              " (39.24907, -84.44561999999999),\n",
              " (39.183640000000004, -84.48373000000001),\n",
              " (41.420898, -81.69322),\n",
              " (39.18976, -84.26285),\n",
              " (40.009209999999996, -83.03149),\n",
              " (41.12369, -80.75595),\n",
              " (41.09705, -81.50012),\n",
              " (41.03011, -81.40292099999999),\n",
              " (39.9533, -83.0032),\n",
              " (39.91404, -83.01729),\n",
              " (39.118109999999994, -84.49975),\n",
              " (39.73277, -84.20522),\n",
              " (41.47379, -81.69592),\n",
              " (41.47395, -81.69931),\n",
              " (39.62334, -81.83577),\n",
              " (39.98233, -82.98449000000001),\n",
              " (40.15106, -80.03243),\n",
              " (41.66332, -83.56385999999999),\n",
              " (39.35245, -84.37507),\n",
              " (41.67178, -83.6939),\n",
              " (38.380179999999996, -82.60993),\n",
              " (39.03347, -84.603),\n",
              " (40.42116, -80.0438),\n",
              " (41.341147, -83.347543),\n",
              " (41.34131, -83.376561),\n",
              " (40.26758, -82.92745),\n",
              " (40.432459, -80.023538),\n",
              " (39.9912, -85.9188),\n",
              " (39.056540000000005, -84.54283000000001),\n",
              " (38.39328, -85.76223),\n",
              " (39.971658000000005, -80.017133),\n",
              " (39.98381, -80.01011),\n",
              " (39.844570000000004, -85.51639399999999),\n",
              " (38.399528000000004, -85.76430500000001),\n",
              " (38.38981, -81.76937),\n",
              " (41.47965, -81.66758),\n",
              " (39.978590000000004, -82.9763),\n",
              " (40.681090000000005, -80.24616999999999),\n",
              " (40.681090000000005, -80.24616999999999),\n",
              " (41.47487, -81.72095),\n",
              " ...]"
            ]
          },
          "metadata": {},
          "execution_count": 48
        }
      ]
    },
    {
      "cell_type": "code",
      "metadata": {
        "id": "bkraYQP8Aj6D"
      },
      "source": [
        "from folium.plugins import HeatMap"
      ],
      "execution_count": null,
      "outputs": []
    },
    {
      "cell_type": "code",
      "metadata": {
        "id": "n1CHhIOiCQp7"
      },
      "source": [
        "sample_df=df.sample(int(0.001*len(df)))\n",
        "lat_lon_pairs=list(zip(list(sample_df.Start_Lat),list(sample_df.Start_Lng)))"
      ],
      "execution_count": null,
      "outputs": []
    },
    {
      "cell_type": "code",
      "metadata": {
        "colab": {
          "base_uri": "https://localhost:8080/",
          "height": 712
        },
        "id": "hODVEHWGBuHA",
        "outputId": "19a01e79-e2b6-4543-a014-3afacfd1a226"
      },
      "source": [
        "map=folium.Map()\n",
        "HeatMap(lat_lon_pairs[:100]).add_to(map)\n",
        "map\n"
      ],
      "execution_count": null,
      "outputs": [
        {
          "output_type": "execute_result",
          "data": {
            "text/html": [
              "<div style=\"width:100%;\"><div style=\"position:relative;width:100%;height:0;padding-bottom:60%;\"><span style=\"color:#565656\">Make this Notebook Trusted to load map: File -> Trust Notebook</span><iframe src=\"about:blank\" style=\"position:absolute;width:100%;height:100%;left:0;top:0;border:none !important;\" data-html=%3C%21DOCTYPE%20html%3E%0A%3Chead%3E%20%20%20%20%0A%20%20%20%20%3Cmeta%20http-equiv%3D%22content-type%22%20content%3D%22text/html%3B%20charset%3DUTF-8%22%20/%3E%0A%20%20%20%20%3Cscript%3EL_PREFER_CANVAS%3Dfalse%3B%20L_NO_TOUCH%3Dfalse%3B%20L_DISABLE_3D%3Dfalse%3B%3C/script%3E%0A%20%20%20%20%3Cscript%20src%3D%22https%3A//cdn.jsdelivr.net/npm/leaflet%401.4.0/dist/leaflet.js%22%3E%3C/script%3E%0A%20%20%20%20%3Cscript%20src%3D%22https%3A//code.jquery.com/jquery-1.12.4.min.js%22%3E%3C/script%3E%0A%20%20%20%20%3Cscript%20src%3D%22https%3A//maxcdn.bootstrapcdn.com/bootstrap/3.2.0/js/bootstrap.min.js%22%3E%3C/script%3E%0A%20%20%20%20%3Cscript%20src%3D%22https%3A//cdnjs.cloudflare.com/ajax/libs/Leaflet.awesome-markers/2.0.2/leaflet.awesome-markers.js%22%3E%3C/script%3E%0A%20%20%20%20%3Clink%20rel%3D%22stylesheet%22%20href%3D%22https%3A//cdn.jsdelivr.net/npm/leaflet%401.4.0/dist/leaflet.css%22/%3E%0A%20%20%20%20%3Clink%20rel%3D%22stylesheet%22%20href%3D%22https%3A//maxcdn.bootstrapcdn.com/bootstrap/3.2.0/css/bootstrap.min.css%22/%3E%0A%20%20%20%20%3Clink%20rel%3D%22stylesheet%22%20href%3D%22https%3A//maxcdn.bootstrapcdn.com/bootstrap/3.2.0/css/bootstrap-theme.min.css%22/%3E%0A%20%20%20%20%3Clink%20rel%3D%22stylesheet%22%20href%3D%22https%3A//maxcdn.bootstrapcdn.com/font-awesome/4.6.3/css/font-awesome.min.css%22/%3E%0A%20%20%20%20%3Clink%20rel%3D%22stylesheet%22%20href%3D%22https%3A//cdnjs.cloudflare.com/ajax/libs/Leaflet.awesome-markers/2.0.2/leaflet.awesome-markers.css%22/%3E%0A%20%20%20%20%3Clink%20rel%3D%22stylesheet%22%20href%3D%22https%3A//rawcdn.githack.com/python-visualization/folium/master/folium/templates/leaflet.awesome.rotate.css%22/%3E%0A%20%20%20%20%3Cstyle%3Ehtml%2C%20body%20%7Bwidth%3A%20100%25%3Bheight%3A%20100%25%3Bmargin%3A%200%3Bpadding%3A%200%3B%7D%3C/style%3E%0A%20%20%20%20%3Cstyle%3E%23map%20%7Bposition%3Aabsolute%3Btop%3A0%3Bbottom%3A0%3Bright%3A0%3Bleft%3A0%3B%7D%3C/style%3E%0A%20%20%20%20%0A%20%20%20%20%3Cmeta%20name%3D%22viewport%22%20content%3D%22width%3Ddevice-width%2C%0A%20%20%20%20%20%20%20%20initial-scale%3D1.0%2C%20maximum-scale%3D1.0%2C%20user-scalable%3Dno%22%20/%3E%0A%20%20%20%20%3Cstyle%3E%23map_50c85f452c644814aedf794e506062bd%20%7B%0A%20%20%20%20%20%20%20%20position%3A%20relative%3B%0A%20%20%20%20%20%20%20%20width%3A%20100.0%25%3B%0A%20%20%20%20%20%20%20%20height%3A%20100.0%25%3B%0A%20%20%20%20%20%20%20%20left%3A%200.0%25%3B%0A%20%20%20%20%20%20%20%20top%3A%200.0%25%3B%0A%20%20%20%20%20%20%20%20%7D%0A%20%20%20%20%3C/style%3E%0A%20%20%20%20%3Cscript%20src%3D%22https%3A//leaflet.github.io/Leaflet.heat/dist/leaflet-heat.js%22%3E%3C/script%3E%0A%3C/head%3E%0A%3Cbody%3E%20%20%20%20%0A%20%20%20%20%0A%20%20%20%20%3Cdiv%20class%3D%22folium-map%22%20id%3D%22map_50c85f452c644814aedf794e506062bd%22%20%3E%3C/div%3E%0A%3C/body%3E%0A%3Cscript%3E%20%20%20%20%0A%20%20%20%20%0A%20%20%20%20%0A%20%20%20%20%20%20%20%20var%20bounds%20%3D%20null%3B%0A%20%20%20%20%0A%0A%20%20%20%20var%20map_50c85f452c644814aedf794e506062bd%20%3D%20L.map%28%0A%20%20%20%20%20%20%20%20%27map_50c85f452c644814aedf794e506062bd%27%2C%20%7B%0A%20%20%20%20%20%20%20%20center%3A%20%5B0%2C%200%5D%2C%0A%20%20%20%20%20%20%20%20zoom%3A%201%2C%0A%20%20%20%20%20%20%20%20maxBounds%3A%20bounds%2C%0A%20%20%20%20%20%20%20%20layers%3A%20%5B%5D%2C%0A%20%20%20%20%20%20%20%20worldCopyJump%3A%20false%2C%0A%20%20%20%20%20%20%20%20crs%3A%20L.CRS.EPSG3857%2C%0A%20%20%20%20%20%20%20%20zoomControl%3A%20true%2C%0A%20%20%20%20%20%20%20%20%7D%29%3B%0A%0A%0A%20%20%20%20%0A%20%20%20%20var%20tile_layer_10df820b217f4b1ebcd7532a91b63e7f%20%3D%20L.tileLayer%28%0A%20%20%20%20%20%20%20%20%27https%3A//%7Bs%7D.tile.openstreetmap.org/%7Bz%7D/%7Bx%7D/%7By%7D.png%27%2C%0A%20%20%20%20%20%20%20%20%7B%0A%20%20%20%20%20%20%20%20%22attribution%22%3A%20null%2C%0A%20%20%20%20%20%20%20%20%22detectRetina%22%3A%20false%2C%0A%20%20%20%20%20%20%20%20%22maxNativeZoom%22%3A%2018%2C%0A%20%20%20%20%20%20%20%20%22maxZoom%22%3A%2018%2C%0A%20%20%20%20%20%20%20%20%22minZoom%22%3A%200%2C%0A%20%20%20%20%20%20%20%20%22noWrap%22%3A%20false%2C%0A%20%20%20%20%20%20%20%20%22opacity%22%3A%201%2C%0A%20%20%20%20%20%20%20%20%22subdomains%22%3A%20%22abc%22%2C%0A%20%20%20%20%20%20%20%20%22tms%22%3A%20false%0A%7D%29.addTo%28map_50c85f452c644814aedf794e506062bd%29%3B%0A%20%20%20%20%0A%20%20%20%20%20%20%20%20%20%20%20%20var%20heat_map_430826a756af4b14bde208ddc9aa8b0d%20%3D%20L.heatLayer%28%0A%20%20%20%20%20%20%20%20%20%20%20%20%20%20%20%20%5B%5B33.898740000000004%2C%20-118.18704%5D%2C%20%5B38.5752%2C%20-121.57056999999999%5D%2C%20%5B29.7048%2C%20-95.0156%5D%2C%20%5B30.247729999999997%2C%20-81.69787%5D%2C%20%5B44.98811%2C%20-93.23682%5D%2C%20%5B38.27677%2C%20-121.49541%5D%2C%20%5B37.277869%2C%20-120.44357600000001%5D%2C%20%5B34.071622999999995%2C%20-118.11037900000001%5D%2C%20%5B34.88658%2C%20-116.9938%5D%2C%20%5B41.8477%2C%20-87.91892%5D%2C%20%5B43.011590000000005%2C%20-83.6606%5D%2C%20%5B27.82623%2C%20-82.66632%5D%2C%20%5B46.35666%2C%20-93.699996%5D%2C%20%5B33.988255%2C%20-118.403552%5D%2C%20%5B34.044270000000004%2C%20-117.15681000000001%5D%2C%20%5B33.968790000000006%2C%20-117.32828%5D%2C%20%5B33.810241999999995%2C%20-84.374538%5D%2C%20%5B42.291909999999994%2C%20-84.25693000000001%5D%2C%20%5B37.449962%2C%20-122.33818799999999%5D%2C%20%5B33.91175%2C%20-118.18013400000001%5D%2C%20%5B28.535290000000003%2C%20-81.383964%5D%2C%20%5B30.449187%2C%20-86.623739%5D%2C%20%5B34.760967%2C%20-86.672891%5D%2C%20%5B32.688471%2C%20-96.857129%5D%2C%20%5B32.91319%2C%20-96.4444%5D%2C%20%5B39.65704%2C%20-104.8369%5D%2C%20%5B41.43865%2C%20-81.80587%5D%2C%20%5B33.77828%2C%20-117.86036999999999%5D%2C%20%5B38.41373%2C%20-121.90052%5D%2C%20%5B39.063033000000004%2C%20-94.48814%5D%2C%20%5B41.859840000000005%2C%20-88.02702%5D%2C%20%5B35.957211%2C%20-87.551797%5D%2C%20%5B34.032586%2C%20-118.144043%5D%2C%20%5B41.72749%2C%20-72.66606%5D%2C%20%5B31.771889%2C%20-106.377384%5D%2C%20%5B33.746340000000004%2C%20-117.44839099999999%5D%2C%20%5B42.30595%2C%20-87.95966%5D%2C%20%5B40.741397%2C%20-74.21521%5D%2C%20%5B42.225%2C%20-83.41563000000001%5D%2C%20%5B33.46195%2C%20-112.14625%5D%2C%20%5B30.49855%2C%20-84.25331%5D%2C%20%5B35.394166999999996%2C%20-118.9675%5D%2C%20%5B33.872733000000004%2C%20-118.2942%5D%2C%20%5B45.514694%2C%20-122.70059499999999%5D%2C%20%5B34.02922%2C%20-118.44598%5D%2C%20%5B30.534717999999998%2C%20-84.547438%5D%2C%20%5B34.320640000000004%2C%20-119.1044%5D%2C%20%5B44.132951%2C%20-124.12191999999999%5D%2C%20%5B37.748145%2C%20-120.995534%5D%2C%20%5B42.68758%2C%20-88.50845%5D%2C%20%5B33.85235%2C%20-117.88198%5D%2C%20%5B26.25426%2C%20-80.13679%5D%2C%20%5B34.953303999999996%2C%20-82.284816%5D%2C%20%5B30.446440000000003%2C%20-91.05773%5D%2C%20%5B40.039201%2C%20-76.36098299999999%5D%2C%20%5B38.483371999999996%2C%20-123.01243999999998%5D%2C%20%5B32.800940000000004%2C%20-79.94612%5D%2C%20%5B33.4616%2C%20-112.09908999999999%5D%2C%20%5B35.1422%2C%20-80.9308%5D%2C%20%5B42.735384%2C%20-123.370296%5D%2C%20%5B42.02684%2C%20-86.52167%5D%2C%20%5B33.759079%2C%20-117.46473600000002%5D%2C%20%5B32.92405%2C%20-96.78196%5D%2C%20%5B34.32996%2C%20-118.50586000000001%5D%2C%20%5B34.736644%2C%20-79.656478%5D%2C%20%5B38.86593%2C%20-77.05114%5D%2C%20%5B44.629531%2C%20-117.519328%5D%2C%20%5B32.78553%2C%20-96.62459%5D%2C%20%5B38.64315%2C%20-121.43413000000001%5D%2C%20%5B42.17993%2C%20-121.60392%5D%2C%20%5B39.26025%2C%20-77.22326%5D%2C%20%5B44.93974%2C%20-93.0756%5D%2C%20%5B44.71416%2C%20-93.42704%5D%2C%20%5B38.493241%2C%20-121.44311499999999%5D%2C%20%5B33.006183%2C%20-80.102249%5D%2C%20%5B46.012249%2C%20-92.553442%5D%2C%20%5B37.51047%2C%20-121.97146000000001%5D%2C%20%5B36.008988%2C%20-83.83880400000001%5D%2C%20%5B33.454972999999995%2C%20-80.91820799999999%5D%2C%20%5B29.687742999999998%2C%20-82.43028100000001%5D%2C%20%5B37.32509%2C%20-121.88677%5D%2C%20%5B43.03112%2C%20-88.05458%5D%2C%20%5B39.287859999999995%2C%20-84.49031%5D%2C%20%5B36.118970000000004%2C%20-95.86868%5D%2C%20%5B39.19285%2C%20-77.02653000000001%5D%2C%20%5B39.389977%2C%20-123.33567099999999%5D%2C%20%5B34.079882%2C%20-117.73793700000002%5D%2C%20%5B37.754656%2C%20-121.14691599999999%5D%2C%20%5B35.176790000000004%2C%20-117.98578799999999%5D%2C%20%5B36.153940000000006%2C%20-86.81818%5D%2C%20%5B34.155245%2C%20-118.29389599999999%5D%2C%20%5B35.152217%2C%20-80.893602%5D%2C%20%5B38.172146999999995%2C%20-76.948944%5D%2C%20%5B45.56236%2C%20-122.17285%5D%2C%20%5B25.701769%2C%20-80.34594399999999%5D%2C%20%5B34.081590000000006%2C%20-117.72299%5D%2C%20%5B34.27636%2C%20-118.53291000000002%5D%2C%20%5B35.275290000000005%2C%20-80.82139000000001%5D%2C%20%5B32.911597%2C%20-96.768826%5D%2C%20%5B34.06584%2C%20-117.993471%5D%5D%2C%0A%20%20%20%20%20%20%20%20%20%20%20%20%20%20%20%20%7B%0A%20%20%20%20%20%20%20%20%20%20%20%20%20%20%20%20%20%20%20%20minOpacity%3A%200.5%2C%0A%20%20%20%20%20%20%20%20%20%20%20%20%20%20%20%20%20%20%20%20maxZoom%3A%2018%2C%0A%20%20%20%20%20%20%20%20%20%20%20%20%20%20%20%20%20%20%20%20max%3A%201.0%2C%0A%20%20%20%20%20%20%20%20%20%20%20%20%20%20%20%20%20%20%20%20radius%3A%2025%2C%0A%20%20%20%20%20%20%20%20%20%20%20%20%20%20%20%20%20%20%20%20blur%3A%2015%2C%0A%20%20%20%20%20%20%20%20%20%20%20%20%20%20%20%20%20%20%20%20gradient%3A%20null%0A%20%20%20%20%20%20%20%20%20%20%20%20%20%20%20%20%20%20%20%20%7D%29%0A%20%20%20%20%20%20%20%20%20%20%20%20%20%20%20%20.addTo%28map_50c85f452c644814aedf794e506062bd%29%3B%0A%20%20%20%20%20%20%20%20%0A%3C/script%3E onload=\"this.contentDocument.open();this.contentDocument.write(    decodeURIComponent(this.getAttribute('data-html')));this.contentDocument.close();\" allowfullscreen webkitallowfullscreen mozallowfullscreen></iframe></div></div>"
            ],
            "text/plain": [
              "<folium.folium.Map at 0x7f051476add0>"
            ]
          },
          "metadata": {},
          "execution_count": 61
        }
      ]
    },
    {
      "cell_type": "markdown",
      "metadata": {
        "id": "EAfldhh35X_K"
      },
      "source": [
        "#Ask and answer questions\n",
        "1.Are there more accidents in warmer or colder areas?\n",
        "Or more accidents in which season ? Cell 65\n",
        "\n",
        "2.Which top 10 cities have recorded the highest no of accidents? Cell 35\n",
        "\n",
        "3.What time of the day are the accidents most frequent in?\n",
        "\n",
        "4.Among the top 100 cities by accident, which states do they belong to most frequently?\n",
        "\n",
        "5.Which days of the week the have more accidents? cell 57\n",
        "\n",
        "6.Which months have recorded more accidents? cell 65\n",
        "\n",
        "7.What is the trend of accidents year over year?(increasing/decreasing)\n",
        "\n",
        "8.Is the distribution of accidents per hour is same on weekends as on weekdays?\n",
        "\n",
        "9.Cities that have recorded only a single accident? Cell 40\n",
        "\n",
        "\n",
        "\n",
        "\n"
      ]
    },
    {
      "cell_type": "code",
      "metadata": {
        "id": "uFsBBt_LLVFc"
      },
      "source": [
        ""
      ],
      "execution_count": null,
      "outputs": []
    },
    {
      "cell_type": "code",
      "metadata": {
        "id": "9w8-l7Ux_fW1"
      },
      "source": [
        ""
      ],
      "execution_count": null,
      "outputs": []
    },
    {
      "cell_type": "markdown",
      "metadata": {
        "id": "CKQYIGABLWCJ"
      },
      "source": [
        "#Summery and Conclusion\n",
        "-Over 1100 cities have reported just one accident(only one accident)\n",
        "\n",
        "-Less than 2% cities have more than 1000 yearly accidents\n",
        "\n",
        "-Highest percentage of accidents is from 4pm to 6pm\n",
        "\n",
        "-Accidents on weekends are less than that of weekdays (less no of people are travelling for work)\n",
        "\n",
        "-Both the costs (east and west) have high percentage of accidents and middle region has love percentage of accidents\n",
        "\n",
        "-"
      ]
    },
    {
      "cell_type": "code",
      "metadata": {
        "id": "iuUEwE71LVzU"
      },
      "source": [
        "import jovian"
      ],
      "execution_count": null,
      "outputs": []
    },
    {
      "cell_type": "code",
      "metadata": {
        "id": "R9lAucMpGW5c",
        "colab": {
          "base_uri": "https://localhost:8080/",
          "height": 87
        },
        "outputId": "a6841bd0-bd99-4e38-e198-759c21b9969e"
      },
      "source": [
        "jovian.commit()"
      ],
      "execution_count": null,
      "outputs": [
        {
          "output_type": "stream",
          "name": "stdout",
          "text": [
            "[jovian] Detected Colab notebook...\u001b[0m\n",
            "[jovian] Uploading colab notebook to Jovian...\u001b[0m\n",
            "Committed successfully! https://jovian.ai/bhilwadikarshambhavi/us-accidents-record\n"
          ]
        },
        {
          "output_type": "execute_result",
          "data": {
            "application/vnd.google.colaboratory.intrinsic+json": {
              "type": "string"
            },
            "text/plain": [
              "'https://jovian.ai/bhilwadikarshambhavi/us-accidents-record'"
            ]
          },
          "metadata": {},
          "execution_count": 63
        }
      ]
    }
  ]
}